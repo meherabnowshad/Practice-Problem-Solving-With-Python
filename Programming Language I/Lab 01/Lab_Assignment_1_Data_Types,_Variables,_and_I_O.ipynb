{
  "nbformat": 4,
  "nbformat_minor": 0,
  "metadata": {
    "colab": {
      "provenance": []
    },
    "kernelspec": {
      "name": "python3",
      "display_name": "Python 3"
    },
    "language_info": {
      "name": "python"
    }
  },
  "cells": [
    {
      "cell_type": "markdown",
      "source": [
        "Task 1"
      ],
      "metadata": {
        "id": "G9DHl6aPFUcM"
      }
    },
    {
      "cell_type": "code",
      "execution_count": null,
      "metadata": {
        "colab": {
          "base_uri": "https://localhost:8080/"
        },
        "id": "1HOMETTBFQv8",
        "outputId": "9d66b022-bb01-4d33-8742-760a32b870e8"
      },
      "outputs": [
        {
          "output_type": "stream",
          "name": "stdout",
          "text": [
            "Hello World\n"
          ]
        }
      ],
      "source": [
        "print(\"Hello World\")"
      ]
    },
    {
      "cell_type": "markdown",
      "source": [
        "Task 2"
      ],
      "metadata": {
        "id": "iFsNz7rW3E_V"
      }
    },
    {
      "cell_type": "code",
      "source": [
        "print(54+56)"
      ],
      "metadata": {
        "colab": {
          "base_uri": "https://localhost:8080/"
        },
        "id": "8qYpTQgE3GV7",
        "outputId": "2c34c95c-1b77-4b75-d782-09d1db1a2bbc"
      },
      "execution_count": 1,
      "outputs": [
        {
          "output_type": "stream",
          "name": "stdout",
          "text": [
            "110\n"
          ]
        }
      ]
    },
    {
      "cell_type": "markdown",
      "source": [
        "Task 3"
      ],
      "metadata": {
        "id": "UfQkx22z3KtN"
      }
    },
    {
      "cell_type": "code",
      "source": [
        "season = \"Fall\"\n",
        "year = 2022\n",
        "print(season)\n",
        "print(year)"
      ],
      "metadata": {
        "colab": {
          "base_uri": "https://localhost:8080/"
        },
        "id": "lwFWudpc3L1K",
        "outputId": "3a6ade95-ffaf-445e-9f80-fcc01a5c4fb7"
      },
      "execution_count": 2,
      "outputs": [
        {
          "output_type": "stream",
          "name": "stdout",
          "text": [
            "Fall\n",
            "2022\n"
          ]
        }
      ]
    },
    {
      "cell_type": "markdown",
      "source": [
        "Task 4"
      ],
      "metadata": {
        "id": "cdtI20Su3XXe"
      }
    },
    {
      "cell_type": "code",
      "source": [
        "users_name = input(\"Enter your user name: \")\n",
        "print(f'Your name is {users_name}')"
      ],
      "metadata": {
        "colab": {
          "base_uri": "https://localhost:8080/"
        },
        "id": "MMUh5bs-3YXD",
        "outputId": "0d10b045-d33c-45cb-9e75-c56346904366"
      },
      "execution_count": 6,
      "outputs": [
        {
          "output_type": "stream",
          "name": "stdout",
          "text": [
            "Enter your user name: John\n",
            "Your name is John\n"
          ]
        }
      ]
    },
    {
      "cell_type": "markdown",
      "source": [],
      "metadata": {
        "id": "QTEfZGqqFTKe"
      }
    },
    {
      "cell_type": "markdown",
      "source": [
        "Task 5"
      ],
      "metadata": {
        "id": "e_Lydozt33ro"
      }
    },
    {
      "cell_type": "code",
      "source": [
        "first_integer = int(input(\"Enter first integer: \"))\n",
        "second_integer = int(input(\"Enter second integer: \"))\n",
        "print(f'{first_integer}^{second_integer}: {first_integer**second_integer}')"
      ],
      "metadata": {
        "colab": {
          "base_uri": "https://localhost:8080/"
        },
        "id": "2EcjsfXt35mA",
        "outputId": "650f7484-fba6-4574-d273-1f7d7e2fe80e"
      },
      "execution_count": 9,
      "outputs": [
        {
          "output_type": "stream",
          "name": "stdout",
          "text": [
            "Enter first integer: 10\n",
            "Enter second integer: 3\n",
            "10^3: 1000\n"
          ]
        }
      ]
    },
    {
      "cell_type": "markdown",
      "source": [
        "Task 6"
      ],
      "metadata": {
        "id": "Yeq2cU8q4ZZU"
      }
    },
    {
      "cell_type": "code",
      "source": [
        "weight = int(input(\"Enter your weight: \"))\n",
        "maximum_load = weight - (weight%4)\n",
        "print(maximum_load)"
      ],
      "metadata": {
        "colab": {
          "base_uri": "https://localhost:8080/"
        },
        "id": "sbVDxAD94acd",
        "outputId": "b1bc266e-6539-4ba4-bfcf-e28618831471"
      },
      "execution_count": 12,
      "outputs": [
        {
          "output_type": "stream",
          "name": "stdout",
          "text": [
            "Enter your weight: 23\n",
            "20\n"
          ]
        }
      ]
    },
    {
      "cell_type": "markdown",
      "source": [
        "Task 7"
      ],
      "metadata": {
        "id": "YUVmuMCn5HBu"
      }
    },
    {
      "cell_type": "code",
      "source": [
        "A = int(input(\"Please enter your first integer: \"))\n",
        "B = int(input(\"Please enter your second integer: \"))\n",
        "C = int(input(\"Please enter your third integer: \"))\n",
        "D = float(input(\"Please enter your first float: \"))\n",
        "print(int(A**C + B*A - (D/3)))"
      ],
      "metadata": {
        "colab": {
          "base_uri": "https://localhost:8080/"
        },
        "id": "O0sBaP_a5IK5",
        "outputId": "8ae18a8a-a038-4120-9e6a-903caab23b0b"
      },
      "execution_count": 15,
      "outputs": [
        {
          "output_type": "stream",
          "name": "stdout",
          "text": [
            "Please enter your first integer: 2\n",
            "Please enter your second integer: 6\n",
            "Please enter your third integer: 8\n",
            "Please enter your first float: 1.3\n",
            "267\n"
          ]
        }
      ]
    },
    {
      "cell_type": "markdown",
      "source": [
        "Task 8"
      ],
      "metadata": {
        "id": "aAUIdxyg5uqY"
      }
    },
    {
      "cell_type": "code",
      "source": [
        "number_of_chocolate = int(input(\"Please enter the number of chocolate you have: \"))\n",
        "number_of_people = int(number_of_chocolate // 3)\n",
        "remaining_chocolate = int(number_of_chocolate % 3)\n",
        "print(f\"Each friend will receive {number_of_people} chocolates\")\n",
        "print(f'The number of remaining chocolate is {remaining_chocolate}')"
      ],
      "metadata": {
        "colab": {
          "base_uri": "https://localhost:8080/"
        },
        "id": "7047k4ZW5wfZ",
        "outputId": "705decb6-695c-4984-e425-282188321f21"
      },
      "execution_count": 24,
      "outputs": [
        {
          "output_type": "stream",
          "name": "stdout",
          "text": [
            "Please enter the number of chocolate you have: 90\n",
            "Each friend will receive 30 chocolates\n",
            "The number of remaining chocolate is 0\n"
          ]
        }
      ]
    },
    {
      "cell_type": "markdown",
      "source": [
        "Task 9"
      ],
      "metadata": {
        "id": "n4YdqwOs8OBN"
      }
    },
    {
      "cell_type": "code",
      "source": [
        "M = input(\"Please enter the first value: \")\n",
        "N = input(\"Please enter the second value: \")\n",
        "print(f'{N}{M}')"
      ],
      "metadata": {
        "id": "EcUslFVl8QLD",
        "outputId": "32de1080-698d-4f79-bb16-7ffc1c4d4b97",
        "colab": {
          "base_uri": "https://localhost:8080/"
        }
      },
      "execution_count": 26,
      "outputs": [
        {
          "output_type": "stream",
          "name": "stdout",
          "text": [
            "Please enter the first value: Hello\n",
            "Please enter the second value: World\n",
            "WorldHello\n"
          ]
        }
      ]
    },
    {
      "cell_type": "markdown",
      "source": [
        "Task 10"
      ],
      "metadata": {
        "id": "qYlWxOug9P6A"
      }
    },
    {
      "cell_type": "code",
      "source": [
        "take = input(\"Enter the line:\")\n",
        "print(take[0])"
      ],
      "metadata": {
        "id": "XH1dS8Ne9SDH",
        "outputId": "3b3553e5-0b6d-4656-c8c4-9d32255b2083",
        "colab": {
          "base_uri": "https://localhost:8080/"
        }
      },
      "execution_count": 27,
      "outputs": [
        {
          "output_type": "stream",
          "name": "stdout",
          "text": [
            "Enter the line:The quick brown fox jumps over the lazy dog\n",
            "T\n"
          ]
        }
      ]
    },
    {
      "cell_type": "markdown",
      "source": [
        "Task 11"
      ],
      "metadata": {
        "id": "-R6Hig149fVk"
      }
    },
    {
      "cell_type": "code",
      "source": [
        "number = int(input(\"Please enter the integer: \"))\n",
        "if number % 2 == 0:\n",
        "  print(\"True\")\n",
        "else:\n",
        "  print(\"False\")"
      ],
      "metadata": {
        "id": "NB90kHvL9ggY",
        "outputId": "aa989f44-786d-4784-ee14-28f1fc4c42cc",
        "colab": {
          "base_uri": "https://localhost:8080/"
        }
      },
      "execution_count": 29,
      "outputs": [
        {
          "output_type": "stream",
          "name": "stdout",
          "text": [
            "Please enter the integer: 7\n",
            "False\n"
          ]
        }
      ]
    }
  ]
}