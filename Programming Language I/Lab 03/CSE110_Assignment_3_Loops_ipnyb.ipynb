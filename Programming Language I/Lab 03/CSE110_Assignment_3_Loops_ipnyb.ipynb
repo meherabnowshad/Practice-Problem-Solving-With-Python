{
  "cells": [
    {
      "cell_type": "markdown",
      "metadata": {
        "id": "kIwLw1qRF-52"
      },
      "source": [
        "Task 1\n"
      ]
    },
    {
      "cell_type": "markdown",
      "metadata": {
        "id": "FHvNpNBESJOJ"
      },
      "source": [
        "a)"
      ]
    },
    {
      "cell_type": "code",
      "execution_count": null,
      "metadata": {
        "colab": {
          "base_uri": "https://localhost:8080/"
        },
        "id": "eA2TI6cSY5ym",
        "outputId": "5cea252c-bf29-4d01-d7c7-495c948e914e"
      },
      "outputs": [
        {
          "name": "stdout",
          "output_type": "stream",
          "text": [
            "24, 18, 12, 6, 0, -6"
          ]
        }
      ],
      "source": [
        "counter = 24\n",
        "\n",
        "while counter >= -6:\n",
        "  if counter == -6:\n",
        "    print(counter, end='')\n",
        "  else:\n",
        "    print(counter, end=', ')\n",
        "\n",
        "  counter = counter - 6"
      ]
    },
    {
      "cell_type": "markdown",
      "metadata": {
        "id": "mUXj9ChbSLFj"
      },
      "source": [
        "b)"
      ]
    },
    {
      "cell_type": "code",
      "execution_count": null,
      "metadata": {
        "colab": {
          "base_uri": "https://localhost:8080/"
        },
        "id": "5X2IWc5gaYMr",
        "outputId": "4320dd85-4a16-4918-a211-f7724c357dc5"
      },
      "outputs": [
        {
          "name": "stdout",
          "output_type": "stream",
          "text": [
            "-10, -5, 0, 5, 10, 15, 20"
          ]
        }
      ],
      "source": [
        "counter = -10\n",
        "\n",
        "while counter <= 20:\n",
        "  if counter == 20:\n",
        "    print(counter, end='')\n",
        "  else:\n",
        "    print(counter, end=', ')\n",
        "\n",
        "  counter = counter + 5"
      ]
    },
    {
      "cell_type": "markdown",
      "metadata": {
        "id": "UYlU6Y9ISMn5"
      },
      "source": [
        "c)"
      ]
    },
    {
      "cell_type": "code",
      "execution_count": null,
      "metadata": {
        "colab": {
          "base_uri": "https://localhost:8080/"
        },
        "id": "huaFtxZQGCga",
        "outputId": "d9a2cc0e-91fd-4b45-aaa3-4ac4016bea7c"
      },
      "outputs": [
        {
          "name": "stdout",
          "output_type": "stream",
          "text": [
            "18, 27, 36, 45, 54, 63"
          ]
        }
      ],
      "source": [
        "counter = 18\n",
        "\n",
        "while counter <= 63:\n",
        "  if counter == 63:\n",
        "    print(counter, end='')\n",
        "  else:\n",
        "    print(counter, end=', ')\n",
        "  counter += 9"
      ]
    },
    {
      "cell_type": "markdown",
      "metadata": {
        "id": "cekuubbzSNxI"
      },
      "source": [
        "d)"
      ]
    },
    {
      "cell_type": "code",
      "execution_count": null,
      "metadata": {
        "colab": {
          "base_uri": "https://localhost:8080/"
        },
        "id": "y4DyjE0uLEYr",
        "outputId": "90bd5af2-3a42-4af7-c7ac-c421c13c4417"
      },
      "outputs": [
        {
          "name": "stdout",
          "output_type": "stream",
          "text": [
            "18, -27, 36, -45, 54, -63"
          ]
        }
      ],
      "source": [
        "counter = 18\n",
        "n = 0\n",
        "while counter <= 63:\n",
        "  if counter == 63:\n",
        "    print(((-1)**n)*counter, end='')\n",
        "  else:\n",
        "    print(((-1)**n)*counter, end=', ')\n",
        "  counter += 9\n",
        "  n += 1\n",
        "\n"
      ]
    },
    {
      "cell_type": "markdown",
      "metadata": {
        "id": "1IGb6liNSRqV"
      },
      "source": [
        "Task 2"
      ]
    },
    {
      "cell_type": "code",
      "execution_count": null,
      "metadata": {
        "colab": {
          "base_uri": "https://localhost:8080/"
        },
        "id": "C_IEIvsCSSz_",
        "outputId": "e51be38c-d1be-42b0-cc47-2ed827990f29"
      },
      "outputs": [
        {
          "name": "stdout",
          "output_type": "stream",
          "text": [
            "Enter the name of your favourite car: Veyron\n",
            "Enter a number: 5\n",
            "Veyron\n",
            "Veyron\n",
            "Veyron\n",
            "Veyron\n",
            "Veyron\n"
          ]
        }
      ],
      "source": [
        "car = input(\"Enter the name of your favourite car: \")\n",
        "number = int(input(\"Enter a number: \"))\n",
        "\n",
        "for i in range(number):\n",
        "  print(car)"
      ]
    },
    {
      "cell_type": "markdown",
      "metadata": {
        "id": "rm6J2BnaUC52"
      },
      "source": [
        "Task 3"
      ]
    },
    {
      "cell_type": "code",
      "execution_count": null,
      "metadata": {
        "colab": {
          "base_uri": "https://localhost:8080/"
        },
        "id": "_z5qZbr-UD-e",
        "outputId": "797e078b-d49b-4c1c-9143-f4f0229e2212"
      },
      "outputs": [
        {
          "name": "stdout",
          "output_type": "stream",
          "text": [
            "2835\n"
          ]
        }
      ],
      "source": [
        "sum = 0\n",
        "\n",
        "for i in range(601):\n",
        "  if i % 7 == 0 and i % 9 == 0:\n",
        "    sum += i\n",
        "print(sum)"
      ]
    },
    {
      "cell_type": "markdown",
      "metadata": {
        "id": "mjDnJDkTZFHH"
      },
      "source": [
        "Task 4"
      ]
    },
    {
      "cell_type": "code",
      "execution_count": null,
      "metadata": {
        "colab": {
          "base_uri": "https://localhost:8080/"
        },
        "id": "7uiPQnxqZG0z",
        "outputId": "61e04c05-fd21-4bc8-8270-32046c091e8f"
      },
      "outputs": [
        {
          "name": "stdout",
          "output_type": "stream",
          "text": [
            "39814\n"
          ]
        }
      ],
      "source": [
        "sum = 0\n",
        "\n",
        "for i in range(601):\n",
        "  if i % 7 == 0 and i % 9 !=  0:\n",
        "    sum += i\n",
        "  elif i % 7 != 0 and i % 9 == 0:\n",
        "    sum += i\n",
        "print(sum)"
      ]
    },
    {
      "cell_type": "markdown",
      "metadata": {
        "id": "lOAojwm0Z6ES"
      },
      "source": [
        "Task 5"
      ]
    },
    {
      "cell_type": "code",
      "execution_count": null,
      "metadata": {
        "colab": {
          "base_uri": "https://localhost:8080/"
        },
        "id": "enOJ5lRlZ7vC",
        "outputId": "117183a6-84a9-4c75-cf9e-725792b3d7ed"
      },
      "outputs": [
        {
          "name": "stdout",
          "output_type": "stream",
          "text": [
            "11 13 15 17 19 21 23 25 27 29 31 33 35 37 39 41 43 45 47 49 "
          ]
        }
      ],
      "source": [
        "for i in range(10, 51):\n",
        "  if i % 2 != 0:\n",
        "    print(i, end = ' ')"
      ]
    },
    {
      "cell_type": "markdown",
      "metadata": {
        "id": "TwPR-7QfaS7B"
      },
      "source": [
        "Task 6"
      ]
    },
    {
      "cell_type": "code",
      "execution_count": null,
      "metadata": {
        "colab": {
          "background_save": true
        },
        "id": "o8yUsePlaUK4",
        "outputId": "441d6c05-9980-48b2-8965-eac32de066a8"
      },
      "outputs": [
        {
          "name": "stdout",
          "output_type": "stream",
          "text": [
            "1\n",
            "2\n",
            "3\n",
            "4\n",
            "5\n",
            "-275\n"
          ]
        }
      ],
      "source": [
        "n = int(input(\"Enter the number: \"))\n",
        "count = 0\n",
        "sum = 0\n",
        "for i in range(1,n+1):\n",
        "  print(i)\n",
        "  sum += (i**2)*(-1)*n\n",
        "  count += 1\n",
        "print(sum)"
      ]
    },
    {
      "cell_type": "markdown",
      "metadata": {
        "id": "e74BubwaLQ16"
      },
      "source": [
        "Task 7"
      ]
    },
    {
      "cell_type": "code",
      "execution_count": null,
      "metadata": {
        "colab": {
          "base_uri": "https://localhost:8080/"
        },
        "id": "NJQ52k_oLR5W",
        "outputId": "6ec561ce-e941-489c-ce88-7215e28795aa"
      },
      "outputs": [
        {
          "name": "stdout",
          "output_type": "stream",
          "text": [
            "Please enter the number: 1\n",
            "Please enter the number: 2\n",
            "Please enter the number: 3\n",
            "Please enter the number: 4\n",
            "Please enter the number: 5\n",
            "Please enter the number: 6\n",
            "Please enter the number: 7\n",
            "Please enter the number: 8\n",
            "Please enter the number: 9\n",
            "Please enter the number: 10\n",
            "The total of the odd numbers is 25 and their average is 5.0\n"
          ]
        }
      ],
      "source": [
        "sum = 0\n",
        "count = 0\n",
        "for i in range(0, 10):\n",
        "  n = int(input(\"Please enter the number: \"))\n",
        "  if n % 2 != 0:\n",
        "    sum += n\n",
        "    count += 1\n",
        "\n",
        "print(f'The total of the odd numbers is {sum} and their average is {sum/count}')"
      ]
    },
    {
      "cell_type": "markdown",
      "metadata": {
        "id": "yq902O7PMbZh"
      },
      "source": [
        "Task 8"
      ]
    },
    {
      "cell_type": "code",
      "execution_count": null,
      "metadata": {
        "colab": {
          "base_uri": "https://localhost:8080/"
        },
        "id": "zZGDUAxFMca_",
        "outputId": "94558c20-5b94-49b4-8aa6-42472800e1a7"
      },
      "outputs": [
        {
          "name": "stdout",
          "output_type": "stream",
          "text": [
            "Please enter the number: 50\n",
            "196\n"
          ]
        }
      ],
      "source": [
        "N = int(input(\"Please enter the number: \"))\n",
        "sum = 0\n",
        "\n",
        "for i in range(0, N):\n",
        "  if i % 7 == 0:\n",
        "    sum += i\n",
        "\n",
        "print(sum)\n"
      ]
    },
    {
      "cell_type": "markdown",
      "metadata": {
        "id": "bucrOAJ4M7Ck"
      },
      "source": [
        "Task 9"
      ]
    },
    {
      "cell_type": "code",
      "execution_count": null,
      "metadata": {
        "colab": {
          "base_uri": "https://localhost:8080/"
        },
        "id": "558B9mHuM8Zs",
        "outputId": "47216000-62ca-4647-dbe9-aa90da60f131"
      },
      "outputs": [
        {
          "name": "stdout",
          "output_type": "stream",
          "text": [
            "Please enter the number: 1\n",
            "1\n",
            "Please enter the number: 2\n",
            "3\n",
            "Please enter the number: 3\n",
            "Please enter the number: 4\n",
            "6\n",
            "10\n",
            "Please enter the number: 5\n",
            "15\n"
          ]
        }
      ],
      "source": [
        "sum = 0\n",
        "\n",
        "for i in range(0, 5):\n",
        "  n = int(input(\"Please enter the number: \"))\n",
        "  sum += n\n",
        "  print(sum)"
      ]
    },
    {
      "cell_type": "markdown",
      "metadata": {
        "id": "vKdHqF99OSFv"
      },
      "source": [
        "Task 10"
      ]
    },
    {
      "cell_type": "code",
      "execution_count": null,
      "metadata": {
        "colab": {
          "base_uri": "https://localhost:8080/"
        },
        "id": "ihMjiqnLOTRf",
        "outputId": "234703fb-cf69-4479-e274-51777b1f2d2e"
      },
      "outputs": [
        {
          "name": "stdout",
          "output_type": "stream",
          "text": [
            "32768\n",
            "5\n",
            "8,3276\n",
            "6,3276\n",
            "6,3276\n",
            "6,3276\n",
            "6\n",
            "3276\n"
          ]
        }
      ],
      "source": [
        "n = int(input())\n",
        "print(len(str(n)))\n",
        "temp = n\n",
        "\n",
        "for i in range(len(str(n))):\n",
        "  if i == len(str(n))-1:\n",
        "    print(temp%10)\n",
        "  else:\n",
        "    print(temp%10, end=',')\n",
        "  temp = n // 10\n",
        "  print(temp)\n"
      ]
    },
    {
      "cell_type": "markdown",
      "metadata": {
        "id": "jwJVs-Lx5dOM"
      },
      "source": [
        "Task 11"
      ]
    },
    {
      "cell_type": "code",
      "execution_count": null,
      "metadata": {
        "colab": {
          "base_uri": "https://localhost:8080/"
        },
        "id": "FPMeAmzV5evk",
        "outputId": "5ffc7fad-f229-4200-9618-ff8248c84158"
      },
      "outputs": [
        {
          "output_type": "stream",
          "name": "stdout",
          "text": [
            "Please enter the number: 9876\n",
            "4\n"
          ]
        }
      ],
      "source": [
        "N = int(input(\"Please enter the number: \"))\n",
        "temp = N\n",
        "count = 0\n",
        "\n",
        "while temp != 0:\n",
        "  count += 1\n",
        "  temp = temp // 10\n",
        "print(count)"
      ]
    },
    {
      "cell_type": "markdown",
      "source": [
        "Task 12"
      ],
      "metadata": {
        "id": "BTZfb1mbrmxf"
      }
    },
    {
      "cell_type": "code",
      "source": [
        "N = int(input(\"Please enter the number: \"))\n",
        "temp = N\n",
        "count = 0\n",
        "\n",
        "while temp != 0:\n",
        "  count += 1\n",
        "  temp = temp // 10\n",
        "\n",
        "temp2 = N\n",
        "count2 = count\n",
        "\n",
        "for i in range(0, count):\n",
        "  if i == count-1:\n",
        "    print(temp2//(10**(count2-1)),end='.')\n",
        "  else:\n",
        "    print(temp2//(10**(count2-1)),end=',')\n",
        "  temp2 = temp2 % 10**(count2-1)\n",
        "  count2 -= 1\n",
        "\n"
      ],
      "metadata": {
        "colab": {
          "base_uri": "https://localhost:8080/"
        },
        "id": "K6XJUyG6rn0m",
        "outputId": "303c0d00-f7c3-438e-c7aa-d20f47641da9"
      },
      "execution_count": null,
      "outputs": [
        {
          "output_type": "stream",
          "name": "stdout",
          "text": [
            "Please enter the number: 32768\n",
            "3,2,7,6,8."
          ]
        }
      ]
    },
    {
      "cell_type": "markdown",
      "source": [
        "Task 13"
      ],
      "metadata": {
        "id": "GiWeuHK6xRmi"
      }
    },
    {
      "cell_type": "code",
      "source": [
        "N = int(input(\"Please enter the number: \"))\n",
        "divisor_count = 0\n",
        "\n",
        "for i in range(1, N+1):\n",
        "  if N % i == 0:\n",
        "    print(i)\n",
        "    divisor_count += 1\n",
        "\n",
        "print(f'Total {divisor_count} divisors')"
      ],
      "metadata": {
        "colab": {
          "base_uri": "https://localhost:8080/"
        },
        "id": "8sQOL1MkxYPz",
        "outputId": "c8297d53-772f-4e2c-92d4-46b384cf6cc8"
      },
      "execution_count": null,
      "outputs": [
        {
          "output_type": "stream",
          "name": "stdout",
          "text": [
            "Please enter the number: 6\n",
            "1\n",
            "2\n",
            "3\n",
            "6\n",
            "Total 4 divisors\n"
          ]
        }
      ]
    },
    {
      "cell_type": "markdown",
      "source": [
        "Task 14"
      ],
      "metadata": {
        "id": "QhpWRwYHgbyo"
      }
    },
    {
      "cell_type": "code",
      "source": [
        "N = int(input(\"Please enter the number: \"))\n",
        "\n",
        "sum = 0\n",
        "for i in range(1, N):\n",
        "  if N % i == 0:\n",
        "    sum += i\n",
        "\n",
        "if sum == N:\n",
        "  print(f'{N} is a perfect number')\n",
        "else:\n",
        "  print(f'{N} is not a perfect number')"
      ],
      "metadata": {
        "colab": {
          "base_uri": "https://localhost:8080/"
        },
        "id": "T5Rk4CuUyD3b",
        "outputId": "9f8a654b-b431-4a54-f8b7-38e439708143"
      },
      "execution_count": null,
      "outputs": [
        {
          "output_type": "stream",
          "name": "stdout",
          "text": [
            "Please enter the number: 33\n",
            "33 is not a perfect number\n"
          ]
        }
      ]
    },
    {
      "cell_type": "markdown",
      "source": [
        "Task 15"
      ],
      "metadata": {
        "id": "a7c-zsY6jVN3"
      }
    },
    {
      "cell_type": "code",
      "source": [
        "N = int(input(\"Please enter the number: \"))\n",
        "divisor_count = 0\n",
        "\n",
        "for i in range(1, N+1):\n",
        "  if N % i == 0:\n",
        "    divisor_count += 1\n",
        "\n",
        "if divisor_count == 2:\n",
        "  print(f\"{N} is a prime number\")\n",
        "else:\n",
        "  print(f\"{N} is not a prime number\")"
      ],
      "metadata": {
        "colab": {
          "base_uri": "https://localhost:8080/"
        },
        "id": "d7yZhdfQjWIL",
        "outputId": "5db16492-1b70-48f9-c5d0-9f2dcb5a8398"
      },
      "execution_count": null,
      "outputs": [
        {
          "output_type": "stream",
          "name": "stdout",
          "text": [
            "Please enter the number: 6\n",
            "6 is not a prime number\n"
          ]
        }
      ]
    },
    {
      "cell_type": "markdown",
      "source": [
        "Task 16"
      ],
      "metadata": {
        "id": "jqP72ndYkVLX"
      }
    },
    {
      "cell_type": "code",
      "source": [
        "quantity = int(input(\"Please enter the number: \"))\n",
        "count = 0\n",
        "sum = 0\n",
        "\n",
        "for i in range(1):\n",
        "  take  = int(input(\"Please take the numbers: \"))\n",
        "  count += 1\n",
        "  sum += take\n",
        "\n",
        "max = take\n",
        "min = take\n",
        "\n",
        "for i in range(2, quantity+1):\n",
        "  take = int(input(\"Please take the numbers: \"))\n",
        "  if take > max:\n",
        "    max = take\n",
        "  elif take < min:\n",
        "    min = take\n",
        "  count += 1\n",
        "  sum += take\n",
        "\n",
        "print(f'Maximum {max}')\n",
        "print(f'Minimum {min}')\n",
        "print(f'Average is {sum/count}')"
      ],
      "metadata": {
        "colab": {
          "base_uri": "https://localhost:8080/"
        },
        "id": "ApHEMpVUkWnN",
        "outputId": "5fba6fb4-aff1-41a1-e406-da0e4963c5d2"
      },
      "execution_count": null,
      "outputs": [
        {
          "output_type": "stream",
          "name": "stdout",
          "text": [
            "Please enter the number: 5\n",
            "Please take the numbers: 10\n",
            "Please take the numbers: 4\n",
            "Please take the numbers: -1\n",
            "Please take the numbers: -100\n",
            "Please take the numbers: 1\n",
            "Maximum 10\n",
            "Minimum -100\n",
            "Average is -17.2\n"
          ]
        }
      ]
    },
    {
      "cell_type": "markdown",
      "source": [
        "Task 17"
      ],
      "metadata": {
        "id": "YV86WdE-5HB7"
      }
    },
    {
      "cell_type": "code",
      "source": [
        "N = int(input(\"Enter: \"))\n",
        "\n",
        "for i in range(0, N):\n",
        "  for j in range(0, N):\n",
        "    print('+', end='')\n",
        "  print()"
      ],
      "metadata": {
        "colab": {
          "base_uri": "https://localhost:8080/"
        },
        "id": "4XbKl9Hg5ISx",
        "outputId": "dedac089-8bad-4901-bdbe-4c98055a8b71"
      },
      "execution_count": null,
      "outputs": [
        {
          "output_type": "stream",
          "name": "stdout",
          "text": [
            "Enter: 5\n",
            "+++++\n",
            "+++++\n",
            "+++++\n",
            "+++++\n",
            "+++++\n"
          ]
        }
      ]
    },
    {
      "cell_type": "markdown",
      "source": [
        "Task 18"
      ],
      "metadata": {
        "id": "uwJFvl7Z7_KM"
      }
    },
    {
      "cell_type": "code",
      "source": [
        "N = int(input(\"Enter the row: \"))\n",
        "M = int(input(\"Enter the coloum: \"))\n",
        "for i in range(1, N+1):\n",
        "  for j in range(1, M+1):\n",
        "    print(j, end='')\n",
        "  print()"
      ],
      "metadata": {
        "colab": {
          "base_uri": "https://localhost:8080/"
        },
        "id": "KuoHrbAB65kF",
        "outputId": "147b035b-268c-4184-d6ad-6ab3937bc6db"
      },
      "execution_count": null,
      "outputs": [
        {
          "output_type": "stream",
          "name": "stdout",
          "text": [
            "Enter the row: 4\n",
            "Enter the coloum: 6\n",
            "123456\n",
            "123456\n",
            "123456\n",
            "123456\n"
          ]
        }
      ]
    },
    {
      "cell_type": "markdown",
      "source": [
        "Task 19"
      ],
      "metadata": {
        "id": "zPwtsX9U8C3I"
      }
    },
    {
      "cell_type": "code",
      "source": [
        "N = int(input(\"Enter the row: \"))\n",
        "\n",
        "for i in range(1, N+1):\n",
        "  for j in range(1, i+1):\n",
        "    print(j, end='')\n",
        "  print()"
      ],
      "metadata": {
        "colab": {
          "base_uri": "https://localhost:8080/"
        },
        "id": "LkteGAWe8Ewk",
        "outputId": "e8b1a2f0-24ff-476a-d40d-6ca2b66638b7"
      },
      "execution_count": null,
      "outputs": [
        {
          "output_type": "stream",
          "name": "stdout",
          "text": [
            "Enter the row: 4\n",
            "1\n",
            "12\n",
            "123\n",
            "1234\n"
          ]
        }
      ]
    },
    {
      "cell_type": "markdown",
      "source": [
        "Task 25"
      ],
      "metadata": {
        "id": "MmqZfZ0UZoLl"
      }
    },
    {
      "cell_type": "code",
      "source": [
        "N = int(input(\"Please enter the range: \"))\n",
        "\n",
        "a = 0\n",
        "b = 1\n",
        "\n",
        "while a <= N:\n",
        "  print(a,end=' ')\n",
        "  a, b = b, a+b"
      ],
      "metadata": {
        "colab": {
          "base_uri": "https://localhost:8080/"
        },
        "id": "CoTkbjQ1Zpxa",
        "outputId": "0a76625d-38ad-4508-e417-6d10814e54cb"
      },
      "execution_count": 7,
      "outputs": [
        {
          "output_type": "stream",
          "name": "stdout",
          "text": [
            "Please enter the range: 10\n",
            "0 1 1 2 3 5 8 "
          ]
        }
      ]
    },
    {
      "cell_type": "markdown",
      "source": [
        "Task 26"
      ],
      "metadata": {
        "id": "kI3HDhmVtVNK"
      }
    },
    {
      "cell_type": "code",
      "source": [
        "decimal = int(input(\"Please enter the deciam value: \"))\n",
        "s = ''\n",
        "\n",
        "while decimal>0:\n",
        "  remainder = decimal % 2\n",
        "  s = str(remainder)+s\n",
        "  decimal = decimal // 2\n",
        "\n",
        "print(s)"
      ],
      "metadata": {
        "colab": {
          "base_uri": "https://localhost:8080/"
        },
        "id": "nMiay_UvtWpq",
        "outputId": "0c58d3af-a218-4ba7-ca80-d5d29fdebe02"
      },
      "execution_count": 5,
      "outputs": [
        {
          "output_type": "stream",
          "name": "stdout",
          "text": [
            "Please enter the deciam value: 11\n",
            "1011\n"
          ]
        }
      ]
    }
  ],
  "metadata": {
    "colab": {
      "provenance": []
    },
    "kernelspec": {
      "display_name": "Python 3",
      "name": "python3"
    },
    "language_info": {
      "name": "python"
    }
  },
  "nbformat": 4,
  "nbformat_minor": 0
}