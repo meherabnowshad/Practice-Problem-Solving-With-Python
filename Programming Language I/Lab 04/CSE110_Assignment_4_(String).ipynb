{
  "nbformat": 4,
  "nbformat_minor": 0,
  "metadata": {
    "colab": {
      "provenance": []
    },
    "kernelspec": {
      "name": "python3",
      "display_name": "Python 3"
    },
    "language_info": {
      "name": "python"
    }
  },
  "cells": [
    {
      "cell_type": "markdown",
      "source": [
        "Task01"
      ],
      "metadata": {
        "id": "YqIHANE3zdFL"
      }
    },
    {
      "cell_type": "code",
      "execution_count": null,
      "metadata": {
        "colab": {
          "base_uri": "https://localhost:8080/"
        },
        "id": "axHsFxixyxPN",
        "outputId": "519fdde5-2f34-4e99-93d9-b0f3b1269a7c"
      },
      "outputs": [
        {
          "output_type": "stream",
          "name": "stdout",
          "text": [
            "Enter the string: CSE110\n",
            "011ESC"
          ]
        }
      ],
      "source": [
        "take = input(\"Enter the string: \")\n",
        "\n",
        "for i in range(1,len(take)+1):\n",
        "  print(take[-i],end='')"
      ]
    },
    {
      "cell_type": "markdown",
      "source": [
        "Task02"
      ],
      "metadata": {
        "id": "1Izlieixzfpq"
      }
    },
    {
      "cell_type": "code",
      "source": [
        "take = input(\"Please enter the string: \")\n",
        "number = int(input(\"PLease enter the index number from where you want to start reversing: \"))\n",
        "temp = number\n",
        "\n",
        "for i in range(len(take)):\n",
        "  if temp >= 0:\n",
        "    print(take[temp],end='')\n",
        "    temp -= 1\n",
        "  else:\n",
        "    print(take[i],end='')"
      ],
      "metadata": {
        "colab": {
          "base_uri": "https://localhost:8080/"
        },
        "id": "-X5dMzIGzfW9",
        "outputId": "9b791fcb-697f-4825-85f6-62ecb3df7f88"
      },
      "execution_count": null,
      "outputs": [
        {
          "output_type": "stream",
          "name": "stdout",
          "text": [
            "Please enter the string: aBcd1234defg\n",
            "PLease enter the index number from where you want to start reversing: 5\n",
            "21dcBa34defg"
          ]
        }
      ]
    },
    {
      "cell_type": "markdown",
      "source": [
        "Task03"
      ],
      "metadata": {
        "id": "c0DxG8GB5WcU"
      }
    },
    {
      "cell_type": "markdown",
      "source": [],
      "metadata": {
        "id": "Huo2Zgkz6ChN"
      }
    },
    {
      "cell_type": "code",
      "source": [
        "take= input(\"Please enter the number: \")\n",
        "count = 0\n",
        "\n",
        "for i in range(len(take)):\n",
        "  if i == 0 and i== 1:\n",
        "    count += 0\n",
        "  else:\n",
        "    count += 1\n",
        "if count == 0:\n",
        "  print(\"Binary Number\")\n",
        "else:\n",
        "  print(\"Not a Binary Number\")"
      ],
      "metadata": {
        "colab": {
          "base_uri": "https://localhost:8080/"
        },
        "id": "AdQh36vd5YaY",
        "outputId": "17e2ae56-1fe2-4fa2-9c06-c0416865232a"
      },
      "execution_count": null,
      "outputs": [
        {
          "output_type": "stream",
          "name": "stdout",
          "text": [
            "Please enter the number: 12344ab0\n",
            "Not a Binary Number\n"
          ]
        }
      ]
    },
    {
      "cell_type": "markdown",
      "source": [
        "Task04\n"
      ],
      "metadata": {
        "id": "RkhPOo13kXSQ"
      }
    },
    {
      "cell_type": "code",
      "source": [
        "user_input = input(\"Enter a word: \")\n",
        "\n",
        "if len(user_input) < 4:\n",
        "    result = user_input\n",
        "elif user_input.endswith(\"est\"):\n",
        "    result = user_input\n",
        "elif user_input.endswith(\"er\"):\n",
        "    result = user_input[0:-2] + \"est\"\n",
        "else:\n",
        "    result = user_input + \"er\"\n",
        "\n",
        "print(\"Output:\", result)\n"
      ],
      "metadata": {
        "colab": {
          "base_uri": "https://localhost:8080/"
        },
        "id": "pw5nz15Xp0gx",
        "outputId": "b732987f-f5b5-4022-b418-edb5f778b588"
      },
      "execution_count": 25,
      "outputs": [
        {
          "output_type": "stream",
          "name": "stdout",
          "text": [
            "Enter a word: stronger\n",
            "Output: strongest\n"
          ]
        }
      ]
    },
    {
      "cell_type": "markdown",
      "source": [
        "Task05\n"
      ],
      "metadata": {
        "id": "nbnHCuDyurFZ"
      }
    },
    {
      "cell_type": "code",
      "source": [
        "take = str(input(\"Please enter the string: \"))\n",
        "temp = ''\n",
        "for i in take:\n",
        "  temp += i\n",
        "  print(temp)\n",
        "\n"
      ],
      "metadata": {
        "colab": {
          "base_uri": "https://localhost:8080/"
        },
        "id": "x-0ZHW5musgo",
        "outputId": "f3f15d30-a0c6-4d1a-dc2d-160344644fb6"
      },
      "execution_count": null,
      "outputs": [
        {
          "output_type": "stream",
          "name": "stdout",
          "text": [
            "Please enter the string: BANGLA\n",
            "B\n",
            "BA\n",
            "BAN\n",
            "BANG\n",
            "BANGL\n",
            "BANGLA\n"
          ]
        }
      ]
    },
    {
      "cell_type": "markdown",
      "source": [
        "Task06"
      ],
      "metadata": {
        "id": "ZXuqu8R5wwqW"
      }
    },
    {
      "cell_type": "code",
      "source": [
        "take = str(input(\"Please enter the string: \"))\n",
        "\n",
        "for i in range(len(take)):\n",
        "  print(take[i],':',ord(take[i]))"
      ],
      "metadata": {
        "colab": {
          "base_uri": "https://localhost:8080/"
        },
        "id": "cFSUWkr_wGFJ",
        "outputId": "13cf210e-4ae0-4bb2-816a-cca31411d52f"
      },
      "execution_count": null,
      "outputs": [
        {
          "output_type": "stream",
          "name": "stdout",
          "text": [
            "Please enter the string: Programming\n",
            "P : 80\n",
            "r : 114\n",
            "o : 111\n",
            "g : 103\n",
            "r : 114\n",
            "a : 97\n",
            "m : 109\n",
            "m : 109\n",
            "i : 105\n",
            "n : 110\n",
            "g : 103\n"
          ]
        }
      ]
    },
    {
      "cell_type": "markdown",
      "source": [
        "Task08"
      ],
      "metadata": {
        "id": "eHD7K1SJ2O8A"
      }
    },
    {
      "cell_type": "code",
      "source": [
        "take = str(input(\"Please enter the string: \"))\n",
        "temp = ''\n",
        "for i in range(len(take)):\n",
        "  if ord(take[i]) == 122:\n",
        "    temp += 'a'\n",
        "  else:\n",
        "    temp += chr(ord(take[i])+1)\n",
        "\n",
        "print(temp)"
      ],
      "metadata": {
        "colab": {
          "base_uri": "https://localhost:8080/"
        },
        "id": "YugdXuG_wQmF",
        "outputId": "22c1b540-104c-4dfc-9e19-461067a3cb00"
      },
      "execution_count": null,
      "outputs": [
        {
          "output_type": "stream",
          "name": "stdout",
          "text": [
            "Please enter the string: xyzabc\n",
            "yzabcd\n"
          ]
        }
      ]
    },
    {
      "cell_type": "markdown",
      "source": [
        "Task09"
      ],
      "metadata": {
        "id": "xFnHGfVW2QYc"
      }
    },
    {
      "cell_type": "code",
      "source": [
        "take = str(input(\"Please enter the string: \"))\n",
        "temp = ''\n",
        "for i in range(len(take)):\n",
        "  if i == (len(take)-1):\n",
        "    if take[i] != take[i-1]:\n",
        "      temp += take[i]\n",
        "  elif take[i] != take[i+1]:\n",
        "      temp += take[i]\n",
        "\n",
        "print(temp)"
      ],
      "metadata": {
        "colab": {
          "base_uri": "https://localhost:8080/"
        },
        "id": "Tk5Jqv2v2Rds",
        "outputId": "61291467-6478-42d9-aebf-821ffe2b93f7"
      },
      "execution_count": null,
      "outputs": [
        {
          "output_type": "stream",
          "name": "stdout",
          "text": [
            "Please enter the string: AAABBBBCDDBBECE\n",
            "ABCDBECE\n"
          ]
        }
      ]
    },
    {
      "cell_type": "markdown",
      "source": [
        "Task10"
      ],
      "metadata": {
        "id": "0TAv3cgv4HYx"
      }
    },
    {
      "cell_type": "code",
      "source": [
        "take = str(input(\"Please enter the string: \"))\n",
        "\n",
        "temp = take.split(', ')\n",
        "minimum = min(len(temp[0]),len(temp[1]))\n",
        "output = ''\n",
        "\n",
        "for i in range(minimum):\n",
        "  output += temp[0][i] + temp[1][i]\n",
        "\n",
        "output += temp[0][minimum:] + temp[1][minimum:]\n",
        "\n",
        "print(output)"
      ],
      "metadata": {
        "colab": {
          "base_uri": "https://localhost:8080/"
        },
        "id": "RgoGgWHM4Iqg",
        "outputId": "5d16e184-43fa-4268-ac26-72958c04e27a"
      },
      "execution_count": null,
      "outputs": [
        {
          "output_type": "stream",
          "name": "stdout",
          "text": [
            "Please enter the string: ijkl, ABCDENDFGH\n",
            "iAjBkClDENDFGH\n"
          ]
        }
      ]
    },
    {
      "cell_type": "markdown",
      "source": [
        "Task16"
      ],
      "metadata": {
        "id": "MRrfwpcmXxG9"
      }
    },
    {
      "cell_type": "code",
      "source": [
        "string = str(input(\"Please enter the string: \"))\n",
        "letter = str(input(\"Please enter the letter: \"))\n",
        "output = ''\n",
        "for i in range(len(string)):\n",
        "  if string[i] != letter:\n",
        "    output += string[i]\n",
        "print(output)"
      ],
      "metadata": {
        "colab": {
          "base_uri": "https://localhost:8080/"
        },
        "id": "yBJ4w5WnXzzi",
        "outputId": "4db002e9-8851-454a-ad5d-1958a767f480"
      },
      "execution_count": 1,
      "outputs": [
        {
          "output_type": "stream",
          "name": "stdout",
          "text": [
            "Please enter the string: tanjiro kamado\n",
            "Please enter the letter: a\n",
            "tnjiro kmdo\n"
          ]
        }
      ]
    },
    {
      "cell_type": "markdown",
      "source": [
        "Task17"
      ],
      "metadata": {
        "id": "Pe7h76PcZqbA"
      }
    },
    {
      "cell_type": "code",
      "source": [
        "string = str(input(\"Please enter the string: \"))\n",
        "split_factor = str(input(\"Please enter the Splitting factor: \"))\n",
        "string2 = string.split(split_factor)\n",
        "for i in string2:\n",
        "  print(i)"
      ],
      "metadata": {
        "colab": {
          "base_uri": "https://localhost:8080/"
        },
        "id": "PvmCNI85ZnRA",
        "outputId": "76fb4acb-d5e1-4170-80bf-786db7dd9680"
      },
      "execution_count": 4,
      "outputs": [
        {
          "output_type": "stream",
          "name": "stdout",
          "text": [
            "Please enter the string: This-is-CSE110\n",
            "Please enter the Splitting factor: -\n",
            "This\n",
            "is\n",
            "CSE110\n"
          ]
        }
      ]
    },
    {
      "cell_type": "markdown",
      "source": [
        "Task18"
      ],
      "metadata": {
        "id": "jNMzazSHbGmb"
      }
    },
    {
      "cell_type": "code",
      "source": [
        "string = str(input(\"Please enter the string: \"))\n",
        "number = int(input(\"Please enter the number: \"))\n",
        "\n",
        "if number % 2 == 0:\n",
        "  print(string*(number*2))\n",
        "else:\n",
        "  print(string*(number*3))"
      ],
      "metadata": {
        "id": "df7ie06hbOgV",
        "outputId": "cca73d3f-a442-48e8-ac8a-0e4e5817c4b0",
        "colab": {
          "base_uri": "https://localhost:8080/"
        }
      },
      "execution_count": 6,
      "outputs": [
        {
          "output_type": "stream",
          "name": "stdout",
          "text": [
            "Please enter the string: CSE110\n",
            "Please enter the number: 3\n",
            "CSE110CSE110CSE110CSE110CSE110CSE110CSE110CSE110CSE110\n"
          ]
        }
      ]
    },
    {
      "cell_type": "markdown",
      "source": [
        "Task19"
      ],
      "metadata": {
        "id": "2bgkHNLCciSA"
      }
    },
    {
      "cell_type": "code",
      "source": [
        "string = str(input(\"Please enter the string: \"))\n",
        "output = ''\n",
        "count = 0\n",
        "\n",
        "\n",
        "for char in string:\n",
        "  if 'A' <= char <= 'Z' or 'a' <= char <= 'z':\n",
        "    if count % 2 == 0:\n",
        "      output += char.upper()\n",
        "    else:\n",
        "      output += char.lower()\n",
        "    count += 1\n",
        "  else:\n",
        "    output += char\n",
        "\n",
        "\n",
        "\n",
        "print(output)"
      ],
      "metadata": {
        "id": "cy4dnMxZcqdG",
        "outputId": "d00a4dad-8a7d-47c5-9039-5279a6ca55a5",
        "colab": {
          "base_uri": "https://localhost:8080/"
        }
      },
      "execution_count": 22,
      "outputs": [
        {
          "output_type": "stream",
          "name": "stdout",
          "text": [
            "Please enter the string: Python programming is very easy\n",
            "PyThOn PrOgRaMmInG iS vErY eAsY\n"
          ]
        }
      ]
    }
  ]
}