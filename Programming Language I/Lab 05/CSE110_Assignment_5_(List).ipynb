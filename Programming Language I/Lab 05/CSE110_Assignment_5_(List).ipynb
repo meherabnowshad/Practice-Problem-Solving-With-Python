{
  "nbformat": 4,
  "nbformat_minor": 0,
  "metadata": {
    "colab": {
      "provenance": []
    },
    "kernelspec": {
      "name": "python3",
      "display_name": "Python 3"
    },
    "language_info": {
      "name": "python"
    }
  },
  "cells": [
    {
      "cell_type": "markdown",
      "source": [
        "Task01"
      ],
      "metadata": {
        "id": "GkiocHn_vKSO"
      }
    },
    {
      "cell_type": "code",
      "execution_count": null,
      "metadata": {
        "colab": {
          "base_uri": "https://localhost:8080/"
        },
        "id": "HmW5nRbyvHQ0",
        "outputId": "29eed1f2-dabe-4ecc-ec4d-48a87bd5ef2a"
      },
      "outputs": [
        {
          "output_type": "stream",
          "name": "stdout",
          "text": [
            "Please enter the number: 3\n",
            "Numbers in the list:[3]\n",
            "Please enter the number: 5\n",
            "Numbers in the list:[3, 5]\n",
            "Please enter the number: 34\n",
            "Numbers in the list:[3, 5, 34]\n",
            "Please enter the number: -11\n",
            "Numbers in the list:[3, 5, 34, -11]\n",
            "Please enter the number: 0\n",
            "Numbers in the list:[3, 5, 34, -11, 0]\n"
          ]
        }
      ],
      "source": [
        "\n",
        "list =[]\n",
        "\n",
        "for i in range(5):\n",
        "  user = int(input(\"Please enter the number: \"))\n",
        "  list.append(user)\n",
        "  print(f'Numbers in the list:{list}')"
      ]
    },
    {
      "cell_type": "markdown",
      "source": [
        "Task02"
      ],
      "metadata": {
        "id": "jJpwnvAuvy-V"
      }
    },
    {
      "cell_type": "code",
      "source": [
        "user = str(input())\n",
        "user_list = user.split(', ')\n",
        "user_list2 =user_list[2:-2]\n",
        "list = []\n",
        "for i in range(len(user_list2)):\n",
        "  list.append(int(user_list2[i]))\n",
        "\n",
        "print(list)"
      ],
      "metadata": {
        "colab": {
          "base_uri": "https://localhost:8080/"
        },
        "id": "Undprrktv0EC",
        "outputId": "cf803dd1-2288-43d8-8b32-4711af880e71"
      },
      "execution_count": null,
      "outputs": [
        {
          "output_type": "stream",
          "name": "stdout",
          "text": [
            "10, 20, 24, 25, 26, 35, 70\n",
            "[24, 25, 26]\n"
          ]
        }
      ]
    },
    {
      "cell_type": "markdown",
      "source": [
        "Task03"
      ],
      "metadata": {
        "id": "kIjYANoto2tV"
      }
    },
    {
      "cell_type": "code",
      "source": [
        "list = []\n",
        "\n",
        "for i in range(5):\n",
        "  user = int(input(\"Please enter the number: \"))\n",
        "  list.append(user)\n",
        "list = list[::-1]\n",
        "\n",
        "for i in list:\n",
        "  print(i)"
      ],
      "metadata": {
        "colab": {
          "base_uri": "https://localhost:8080/"
        },
        "id": "ScGRveOmxKVp",
        "outputId": "7361342e-9451-4d3d-a756-b1cab7026924"
      },
      "execution_count": 8,
      "outputs": [
        {
          "output_type": "stream",
          "name": "stdout",
          "text": [
            "Please enter the number: 5\n",
            "Please enter the number: -5\n",
            "Please enter the number: 100\n",
            "Please enter the number: 1\n",
            "Please enter the number: 0\n",
            "0\n",
            "1\n",
            "100\n",
            "-5\n",
            "5\n"
          ]
        }
      ]
    },
    {
      "cell_type": "markdown",
      "source": [
        "Task04"
      ],
      "metadata": {
        "id": "VjsAYrHeo5Yi"
      }
    },
    {
      "cell_type": "code",
      "source": [
        "list = [1, 2, 3, 4, 5, 6, 7]\n",
        "list2 = []\n",
        "for i in list:\n",
        "  list2.append(i**2)\n",
        "\n",
        "print(list2)"
      ],
      "metadata": {
        "colab": {
          "base_uri": "https://localhost:8080/"
        },
        "id": "caBi-ZqFm49H",
        "outputId": "2ffde938-e4ed-44ff-a515-1d6552744364"
      },
      "execution_count": 10,
      "outputs": [
        {
          "output_type": "stream",
          "name": "stdout",
          "text": [
            "[1, 4, 9, 16, 25, 36, 49]\n"
          ]
        }
      ]
    },
    {
      "cell_type": "markdown",
      "source": [
        "Task05"
      ],
      "metadata": {
        "id": "y7ndiRLFo7l1"
      }
    },
    {
      "cell_type": "code",
      "source": [
        "list = [\"hey\", \"there\", \"\", \"what's\", \"\", \"up\", \"\", \"?\"]\n",
        "\n",
        "modified_list = []\n",
        "\n",
        "for i in list:\n",
        "  if i != '':\n",
        "    modified_list.append(i)\n",
        "\n",
        "print(f'Original List: {list}')\n",
        "print(f'Modified List: {modified_list}')"
      ],
      "metadata": {
        "colab": {
          "base_uri": "https://localhost:8080/"
        },
        "id": "Cgn1RE_Qo87h",
        "outputId": "5a0ee7a1-191d-410c-ed05-185954763bc4"
      },
      "execution_count": 13,
      "outputs": [
        {
          "output_type": "stream",
          "name": "stdout",
          "text": [
            "Original List: ['hey', 'there', '', \"what's\", '', 'up', '', '?']\n",
            "Modified List: ['hey', 'there', \"what's\", 'up', '?']\n"
          ]
        }
      ]
    },
    {
      "cell_type": "markdown",
      "source": [
        "Task06"
      ],
      "metadata": {
        "id": "kSob3pA1rAY5"
      }
    },
    {
      "cell_type": "code",
      "source": [
        "string = input(\"Please enter the 7 number string:\")\n",
        "list = string.split(',')\n",
        "list2 = []\n",
        "for i in list:\n",
        "  list2.append(int(i))\n",
        "\n",
        "largest_number = int(list2[0])\n",
        "largest_index = 0\n",
        "\n",
        "for i in range(len(list2)):\n",
        "  if list2[i] > largest_number:\n",
        "    largest_number = list2[i]\n",
        "    largest_index  = i\n",
        "\n",
        "print(f'My List: {list2}')\n",
        "print(f'Largest number in the list is {largest_number} which was found at index {largest_index}')"
      ],
      "metadata": {
        "colab": {
          "base_uri": "https://localhost:8080/"
        },
        "id": "lEaYv0dUrCFK",
        "outputId": "7b1cdaf5-ebaa-46de-f192-e03e2089e9e9"
      },
      "execution_count": 26,
      "outputs": [
        {
          "output_type": "stream",
          "name": "stdout",
          "text": [
            "Please enter the 7 number string:7,13,2,10,6,-11,0\n",
            "My List: [7, 13, 2, 10, 6, -11, 0]\n",
            "Largest number in the list is 13 which was found at index 1\n"
          ]
        }
      ]
    },
    {
      "cell_type": "markdown",
      "source": [
        "Task07"
      ],
      "metadata": {
        "id": "JJFn8raj0AnZ"
      }
    },
    {
      "cell_type": "code",
      "source": [
        "list1 = [1, 4, 7, 5]\n",
        "list2 = [6, 1, 3, 9]\n",
        "list = []\n",
        "\n",
        "for i in range(len(list1)-1):\n",
        "  list.append(list1[i])\n",
        "for j in list2:\n",
        "  list.append(j)\n",
        "print(list)"
      ],
      "metadata": {
        "colab": {
          "base_uri": "https://localhost:8080/"
        },
        "id": "x0CjIVUJwpOK",
        "outputId": "ba4932f4-a1b7-4820-f426-9c3df3725ba5"
      },
      "execution_count": 42,
      "outputs": [
        {
          "output_type": "stream",
          "name": "stdout",
          "text": [
            "[1, 4, 7, 6, 1, 3, 9]\n"
          ]
        }
      ]
    },
    {
      "cell_type": "markdown",
      "source": [
        "Task08"
      ],
      "metadata": {
        "id": "5GhwgzX40CA8"
      }
    },
    {
      "cell_type": "code",
      "source": [
        "list_one = [1, 2, 3, 4, 5, 6, 7, 8, 9]\n",
        "list_two = [10, 11, 12, -13, -14, -15, -16]\n",
        "list = []\n",
        "for i in list_one:\n",
        "  if i % 2 == 0:\n",
        "    list.append(i)\n",
        "for j in list_two:\n",
        "  if j % 2 == 0:\n",
        "    list.append(j)\n",
        "\n",
        "print(list)"
      ],
      "metadata": {
        "colab": {
          "base_uri": "https://localhost:8080/"
        },
        "id": "SE5jyKKQ0FXZ",
        "outputId": "7af46b4f-7cf4-43f4-80de-374c224ada9d"
      },
      "execution_count": 44,
      "outputs": [
        {
          "output_type": "stream",
          "name": "stdout",
          "text": [
            "[2, 4, 6, 8, 10, 12, -14, -16]\n"
          ]
        }
      ]
    },
    {
      "cell_type": "markdown",
      "source": [
        "Task09"
      ],
      "metadata": {
        "id": "hlb1L9EP0lC_"
      }
    },
    {
      "cell_type": "code",
      "source": [
        "string = input(\"Please eniter the string: \")\n",
        "list = string.split(' ')\n",
        "list2 = []\n",
        "for i in list:\n",
        "  list2.append(int(i))\n",
        "list3 = []\n",
        "for i in list2:\n",
        "  if i % 2 != 0:\n",
        "    list3.append(i)\n",
        "print(list3)"
      ],
      "metadata": {
        "colab": {
          "base_uri": "https://localhost:8080/"
        },
        "id": "2gHVBIs50mf7",
        "outputId": "07f7b525-e2f3-47ea-9e51-7db0d0ec6168"
      },
      "execution_count": 55,
      "outputs": [
        {
          "output_type": "stream",
          "name": "stdout",
          "text": [
            "Please eniter the string: 7 12 4 55 96 2 11 61 33 42\n",
            "[7, 55, 11, 61, 33]\n"
          ]
        }
      ]
    },
    {
      "cell_type": "markdown",
      "source": [
        "Task10"
      ],
      "metadata": {
        "id": "goEnAv-Z3DdA"
      }
    },
    {
      "cell_type": "code",
      "source": [
        "string = input(\"Please eniter the string: \")\n",
        "list = [int(num.strip()) for num in string.split(\",\")]\n",
        "print(list)\n",
        "list2 = []\n",
        "\n",
        "for i in list:\n",
        "  if i not in list2:\n",
        "    list2.append(i)\n",
        "print(list2)"
      ],
      "metadata": {
        "colab": {
          "base_uri": "https://localhost:8080/"
        },
        "id": "G-0vkNHd3E1F",
        "outputId": "abd3caa6-5d73-44da-e312-96aaec28abf0"
      },
      "execution_count": 65,
      "outputs": [
        {
          "output_type": "stream",
          "name": "stdout",
          "text": [
            "Please eniter the string: 0, 0, 1, 2, 3, 4, 4, 5, 6, 6, 6, 7, 8, 9, 4, 4\n",
            "[0, 0, 1, 2, 3, 4, 4, 5, 6, 6, 6, 7, 8, 9, 4, 4]\n",
            "[0, 1, 2, 3, 4, 5, 6, 7, 8, 9]\n"
          ]
        }
      ]
    },
    {
      "cell_type": "markdown",
      "source": [
        "Task11"
      ],
      "metadata": {
        "id": "IwLowQzyimdD"
      }
    },
    {
      "cell_type": "code",
      "source": [
        "List_one = [1, 4, 3, 2, 5]\n",
        "List_two = [8, 7, 6, 9]\n",
        "\n",
        "list = []\n",
        "for i in List_one:\n",
        "  if i in List_two:\n",
        "    list.append(i)\n",
        "\n",
        "if len(list) > 0:\n",
        "  print(\"True\")\n",
        "else:\n",
        "  print(\"False\")"
      ],
      "metadata": {
        "colab": {
          "base_uri": "https://localhost:8080/"
        },
        "id": "jNRHM50rinmR",
        "outputId": "79aad720-9698-4e41-a74f-f24dac0e08bb"
      },
      "execution_count": 2,
      "outputs": [
        {
          "output_type": "stream",
          "name": "stdout",
          "text": [
            "False\n"
          ]
        }
      ]
    },
    {
      "cell_type": "markdown",
      "source": [
        "Task16"
      ],
      "metadata": {
        "id": "xWqsaFbpjfRu"
      }
    },
    {
      "cell_type": "code",
      "source": [
        "string = input(\"Please enter the 7 number string:\")\n",
        "list = string.split(',')\n",
        "list2 = []\n",
        "for i in list:\n",
        "  list2.append(int(i))\n",
        "\n",
        "largest_number = int(list2[0])\n",
        "largest_index = 0\n",
        "\n",
        "second_largest = 0\n",
        "second_largest_index = 0\n",
        "for i in range(len(list2)):\n",
        "  if list2[i] > largest_number:\n",
        "    largest_number = list2[i]\n",
        "\n",
        "for i in range(len(list2)):\n",
        "  if list2[i] != largest_number:\n",
        "    if list2[i] > second_largest:\n",
        "      second_largest = list2[i]\n",
        "      second_largest_index = i\n",
        "\n",
        "print(f'My list: {list2}')\n",
        "print(f'Second largest number in the list is {second_largest} which was found at index {second_largest_index}')"
      ],
      "metadata": {
        "colab": {
          "base_uri": "https://localhost:8080/"
        },
        "id": "SERldnvwjgTP",
        "outputId": "752cf06d-580d-4327-b00d-79ca1e79d774"
      },
      "execution_count": 7,
      "outputs": [
        {
          "output_type": "stream",
          "name": "stdout",
          "text": [
            "Please enter the 7 number string:7, 13, 2, 10, 6, -11, 0\n",
            "My list: [7, 13, 2, 10, 6, -11, 0]\n",
            "Second largest number in the list is 10 which was found at index 3\n"
          ]
        }
      ]
    },
    {
      "cell_type": "markdown",
      "source": [
        "Task17"
      ],
      "metadata": {
        "id": "93RO69EsnPdH"
      }
    },
    {
      "cell_type": "code",
      "source": [
        "string = input(\"Please enter the 7 number string:\")\n",
        "list = string.split(',')\n",
        "list2 = []\n",
        "for i in list:\n",
        "  list2.append(int(i))\n",
        "\n",
        "largest_number = int(list2[0])\n",
        "largest_index = 0\n",
        "\n",
        "smallest_number = int(list2[0])\n",
        "smallest_index = 0\n",
        "\n",
        "second_largest = 0\n",
        "second_largest_index = 0\n",
        "for i in range(len(list2)):\n",
        "  if list2[i] > largest_number:\n",
        "    largest_number = list2[i]\n",
        "    largest_index = i\n",
        "\n",
        "for i in range(len(list2)):\n",
        "  if list2[i] < smallest_number:\n",
        "    smallest_number = list2[i]\n",
        "    smallest_index = i\n",
        "\n",
        "print(f'My List: {list2}')\n",
        "print(f'Smallest number in the list is {smallest_number} which was found at index {smallest_index}')\n",
        "print(f'Largest number in the list is {largest_number} which was found at index {largest_index}')"
      ],
      "metadata": {
        "colab": {
          "base_uri": "https://localhost:8080/"
        },
        "id": "wKeorlxinQtk",
        "outputId": "963f54e1-3670-4f92-c981-483f979877ca"
      },
      "execution_count": 9,
      "outputs": [
        {
          "output_type": "stream",
          "name": "stdout",
          "text": [
            "Please enter the 7 number string:7, 13, -5, 10, 6\n",
            "My List: [7, 13, -5, 10, 6]\n",
            "Smallest number in the list is -5 which was found at index 2\n",
            "Largest number in the list is 13 which was found at index 1\n"
          ]
        }
      ]
    },
    {
      "cell_type": "markdown",
      "source": [
        "Task19"
      ],
      "metadata": {
        "id": "R43aVAuHoeCW"
      }
    },
    {
      "cell_type": "code",
      "source": [
        "list_one = [1, 2, 2, 4, 5, 5, 7, 99, 200, 303, 70]\n",
        "list_two = [1, 1, 2, 3, 3, 3, 4, 5, 200, 500, -5]\n",
        "list = []\n",
        "\n",
        "for i in list_one:\n",
        "  if i not in list:\n",
        "    list.append(i)\n",
        "\n",
        "for i in list_two:\n",
        "  if i not in list:\n",
        "    list.append(i)\n",
        "\n",
        "print(list)"
      ],
      "metadata": {
        "colab": {
          "base_uri": "https://localhost:8080/"
        },
        "id": "Ty5RukWGofS_",
        "outputId": "4eacf639-90be-4bc2-f06c-2b069bee6890"
      },
      "execution_count": 10,
      "outputs": [
        {
          "output_type": "stream",
          "name": "stdout",
          "text": [
            "[1, 2, 4, 5, 7, 99, 200, 303, 70, 3, 500, -5]\n"
          ]
        }
      ]
    }
  ]
}