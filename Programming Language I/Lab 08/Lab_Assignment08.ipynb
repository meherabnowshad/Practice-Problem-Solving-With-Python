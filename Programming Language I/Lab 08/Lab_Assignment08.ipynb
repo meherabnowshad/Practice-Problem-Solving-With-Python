{
  "nbformat": 4,
  "nbformat_minor": 0,
  "metadata": {
    "colab": {
      "provenance": []
    },
    "kernelspec": {
      "name": "python3",
      "display_name": "Python 3"
    },
    "language_info": {
      "name": "python"
    }
  },
  "cells": [
    {
      "cell_type": "markdown",
      "source": [
        "Task 1\n"
      ],
      "metadata": {
        "id": "p-IEd4DZuCHk"
      }
    },
    {
      "cell_type": "code",
      "execution_count": null,
      "metadata": {
        "colab": {
          "base_uri": "https://localhost:8080/"
        },
        "id": "XqjdxLKutLNm",
        "outputId": "fc562983-1179-4384-db4b-a3449d2e5ae7"
      },
      "outputs": [
        {
          "output_type": "stream",
          "name": "stdout",
          "text": [
            "[1, 2, 2, 3, 5, 6, 10, 11, 12, 14, 15, 17, 18, 20, 29]\n"
          ]
        }
      ],
      "source": [
        "list = [1, 2, 2, 3, 5, 6, 10, 11, 12, 14, 15, 17, 18, 20, 29]\n",
        "\n",
        "for i in range(0, len(list)-1):\n",
        "  for j in range(0, len(list)-1):\n",
        "    if list[j] > list[j+1]:\n",
        "      list[j], list[j+1] = list[j+1], list[j]\n",
        "print(list)"
      ]
    },
    {
      "cell_type": "markdown",
      "source": [
        "Task 2\n"
      ],
      "metadata": {
        "id": "-Fa1AWqIuEg0"
      }
    },
    {
      "cell_type": "code",
      "source": [
        "list = [10, 1, 20, 3, 6, 2, 5, 11, 15, 2, 12, 14, 17, 18, 29]\n",
        "\n",
        "for i in range(0, len(list)-1):\n",
        "  min = i\n",
        "  for j in range(i+1, len(list)):\n",
        "    if list[j] < list[min]:\n",
        "      min = j\n",
        "  if min != i:\n",
        "    list[i], list[min] = list[min], list[i]\n",
        "print(list)"
      ],
      "metadata": {
        "colab": {
          "base_uri": "https://localhost:8080/"
        },
        "id": "rdxYs2IquGSS",
        "outputId": "98cae5cc-2a54-4f8d-b477-a3f23ca5307f"
      },
      "execution_count": null,
      "outputs": [
        {
          "output_type": "stream",
          "name": "stdout",
          "text": [
            "[1, 2, 2, 3, 5, 6, 10, 11, 12, 14, 15, 17, 18, 20, 29]\n"
          ]
        }
      ]
    },
    {
      "cell_type": "markdown",
      "source": [
        "Task 3"
      ],
      "metadata": {
        "id": "g43RuWd-tOl0"
      }
    },
    {
      "cell_type": "code",
      "source": [
        "list = [10, 1, 20, 3, 6, 2, 5, 11, 15, 2, 12, 14, 17, 18, 29]\n",
        "\n",
        "for i in range(0, len(list)-1):\n",
        "  for j in range(0, len(list)-1):\n",
        "    if list[j] < list[j+1]:\n",
        "      list[j+1], list[j] = list[j], list[j+1]\n",
        "print(list)"
      ],
      "metadata": {
        "colab": {
          "base_uri": "https://localhost:8080/"
        },
        "id": "9TUCIl_G0owC",
        "outputId": "7e698a21-466d-4f49-ebea-c98154e0376d"
      },
      "execution_count": null,
      "outputs": [
        {
          "output_type": "stream",
          "name": "stdout",
          "text": [
            "[29, 20, 18, 17, 15, 14, 12, 11, 10, 6, 5, 3, 2, 2, 1]\n"
          ]
        }
      ]
    },
    {
      "cell_type": "markdown",
      "source": [
        "Task 4"
      ],
      "metadata": {
        "id": "ZkaYgpQO03kS"
      }
    },
    {
      "cell_type": "code",
      "source": [
        "sitting_list = [10,30,20,70,11,15,22,16,58,100,12,56,70,80]\n",
        "\n",
        "\n",
        "even_index_elements = sitting_list[::2]\n",
        "print(even_index_elements)\n",
        "odd_index_elements = sitting_list[1::2]\n",
        "print(odd_index_elements)\n",
        "\n",
        "even_index_elements.sort()\n",
        "\n",
        "odd_index_elements.sort(reverse=True)\n",
        "\n",
        "result = []\n",
        "for i in range(len(sitting_list)):\n",
        "    if i % 2 == 0:\n",
        "        result.append(even_index_elements.pop(0))\n",
        "    else:\n",
        "        result.append(odd_index_elements.pop(0))\n",
        "\n",
        "print(result)"
      ],
      "metadata": {
        "colab": {
          "base_uri": "https://localhost:8080/"
        },
        "id": "ryNyBgg305W5",
        "outputId": "156133d7-b845-4c4a-ad0a-495c0d76209c"
      },
      "execution_count": null,
      "outputs": [
        {
          "output_type": "stream",
          "name": "stdout",
          "text": [
            "[10, 20, 11, 22, 58, 12, 70]\n",
            "[30, 70, 15, 16, 100, 56, 80]\n",
            "[10, 100, 11, 80, 12, 70, 20, 56, 22, 30, 58, 16, 70, 15]\n"
          ]
        }
      ]
    },
    {
      "cell_type": "markdown",
      "source": [
        "Task 5"
      ],
      "metadata": {
        "id": "Z77xr8j05h3p"
      }
    },
    {
      "cell_type": "code",
      "source": [
        "lst = [\n",
        "    [\"Alan\", 95, 87, 91],\n",
        "    [\"Turing\", 92, 90, 83],\n",
        "    [\"Elon\", 87, 92, 80],\n",
        "    [\"Musk\", 85, 94, 90]\n",
        "]\n",
        "\n",
        "course = input(\"Enter course name (CSE110, PHY111, MAT110): \")\n",
        "\n",
        "course_index = {\"CSE110\": 1, \"PHY111\": 2, \"MAT110\": 3}\n",
        "\n",
        "index = course_index[course]\n",
        "\n",
        "for i in range(len(lst)):\n",
        "    for j in range(i + 1, len(lst)):\n",
        "        if lst[i][index] < lst[j][index]:\n",
        "            lst[i], lst[j] = lst[j], lst[i]\n",
        "print(lst)\n",
        "for student in lst:\n",
        "    print(student[0])\n"
      ],
      "metadata": {
        "colab": {
          "base_uri": "https://localhost:8080/"
        },
        "id": "WWbTZCwh5j8A",
        "outputId": "d52d3abd-1124-4319-f485-1909d20d4108"
      },
      "execution_count": 3,
      "outputs": [
        {
          "output_type": "stream",
          "name": "stdout",
          "text": [
            "Enter course name (CSE110, PHY111, MAT110): MAT110\n",
            "[['Alan', 95, 87, 91], ['Musk', 85, 94, 90], ['Turing', 92, 90, 83], ['Elon', 87, 92, 80]]\n",
            "Alan\n",
            "Musk\n",
            "Turing\n",
            "Elon\n"
          ]
        }
      ]
    },
    {
      "cell_type": "markdown",
      "source": [
        "Task 6"
      ],
      "metadata": {
        "id": "G_s81XrJ8obM"
      }
    },
    {
      "cell_type": "code",
      "source": [
        "list = [4, 2, 3, 1, 6, 5]\n",
        "count = 0\n",
        "for i in range(0, len(list)-1):\n",
        "  for j in range(0, len(list)-1):\n",
        "    if list[j] > list[j+1]:\n",
        "      list[j], list[j+1] = list[j+1], list[j]\n",
        "\n",
        "original_list = [4, 2, 3, 1, 6, 5]\n",
        "\n",
        "for i in range(len(original_list)):\n",
        "  if original_list[i] != list[i]:\n",
        "    count += 1\n",
        "print(count)"
      ],
      "metadata": {
        "colab": {
          "base_uri": "https://localhost:8080/"
        },
        "id": "BW3qLd8J7fjl",
        "outputId": "606abd1c-14f8-40d8-d2db-abb058336e1a"
      },
      "execution_count": 9,
      "outputs": [
        {
          "output_type": "stream",
          "name": "stdout",
          "text": [
            "4\n"
          ]
        }
      ]
    },
    {
      "cell_type": "markdown",
      "source": [
        "Tsak 7"
      ],
      "metadata": {
        "id": "EPHW58Xj86b9"
      }
    },
    {
      "cell_type": "code",
      "source": [
        "list_one = [int(x) for x in input(\"Enter the elements of list one separated by space: \").split()]\n",
        "list_two = [int(x) for x in input(\"Enter the elements of list two separated by space: \").split()]\n",
        "\n",
        "\n",
        "merged_list = list_one + list_two\n",
        "\n",
        "\n",
        "n = len(merged_list)\n",
        "for i in range(n):\n",
        "    for j in range(0, n-i-1):\n",
        "        if merged_list[j] > merged_list[j+1]:\n",
        "            merged_list[j], merged_list[j+1] = merged_list[j+1], merged_list[j]\n",
        "\n",
        "print(\"Sorted list =\", merged_list)\n",
        "\n",
        "\n",
        "length = len(merged_list)\n",
        "if length % 2 == 0:\n",
        "    median = (merged_list[length//2 - 1] + merged_list[length//2]) / 2\n",
        "else:\n",
        "    median = merged_list[length//2]\n",
        "\n",
        "print(\"Median =\", median)"
      ],
      "metadata": {
        "colab": {
          "base_uri": "https://localhost:8080/"
        },
        "id": "sYRcbtqv87gF",
        "outputId": "543e669e-b0e6-465b-8ba0-affc27c0512e"
      },
      "execution_count": 18,
      "outputs": [
        {
          "output_type": "stream",
          "name": "stdout",
          "text": [
            "Enter the elements of list one separated by space: 1 2 1 4\n",
            "Enter the elements of list two separated by space: 5 4 1\n",
            "Sorted list = [1, 1, 1, 2, 4, 4, 5]\n",
            "Median = 2\n"
          ]
        }
      ]
    }
  ]
}