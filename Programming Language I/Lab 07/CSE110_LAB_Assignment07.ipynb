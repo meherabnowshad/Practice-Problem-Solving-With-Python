{
  "nbformat": 4,
  "nbformat_minor": 0,
  "metadata": {
    "colab": {
      "provenance": []
    },
    "kernelspec": {
      "name": "python3",
      "display_name": "Python 3"
    },
    "language_info": {
      "name": "python"
    }
  },
  "cells": [
    {
      "cell_type": "markdown",
      "source": [
        "Task01"
      ],
      "metadata": {
        "id": "ALd3J0dZxRuN"
      }
    },
    {
      "cell_type": "code",
      "execution_count": null,
      "metadata": {
        "colab": {
          "base_uri": "https://localhost:8080/"
        },
        "id": "rxp9QU2Lw3az",
        "outputId": "8f5562d5-5041-49b0-e575-dc979cd5b1e7"
      },
      "outputs": [
        {
          "output_type": "stream",
          "name": "stdout",
          "text": [
            "Odd!!\n"
          ]
        }
      ],
      "source": [
        "def even_checker(number):\n",
        "    if number % 2  == 0:\n",
        "        print(\"Even!!\")\n",
        "    else:\n",
        "        print(\"Odd!!\")\n",
        "\n",
        "even_checker(5)"
      ]
    },
    {
      "cell_type": "markdown",
      "source": [
        "Task02"
      ],
      "metadata": {
        "id": "_jYSp8yGxvNN"
      }
    },
    {
      "cell_type": "code",
      "source": [
        "def fib(n):\n",
        "    a = 0\n",
        "    b = 1\n",
        "\n",
        "    print(a,end=' ')\n",
        "    print(b,end=' ')\n",
        "\n",
        "    for i in range(2, n):\n",
        "        print(a+b,end=' ')\n",
        "        a, b = b, a + b\n",
        "\n",
        "fib(7)"
      ],
      "metadata": {
        "colab": {
          "base_uri": "https://localhost:8080/"
        },
        "id": "X7hZb___xwfT",
        "outputId": "1024ec7d-606f-4e49-c445-e280cfceae8d"
      },
      "execution_count": null,
      "outputs": [
        {
          "output_type": "stream",
          "name": "stdout",
          "text": [
            "0 1 1 2 3 5 8 "
          ]
        }
      ]
    },
    {
      "cell_type": "markdown",
      "source": [
        "Task03"
      ],
      "metadata": {
        "id": "XxmxOQLSzaTz"
      }
    },
    {
      "cell_type": "code",
      "source": [
        "def Function_call(num):\n",
        "  if num % 2 == 0 and num % 3 == 0:\n",
        "    print(\"FooMoo\")\n",
        "  elif num % 2 == 0:\n",
        "    print(\"Foo\")\n",
        "  elif num % 3 == 0:\n",
        "    print(\"Moo\")\n",
        "  else:\n",
        "    print(\"Boo\")\n",
        "Function_call(4)"
      ],
      "metadata": {
        "colab": {
          "base_uri": "https://localhost:8080/"
        },
        "id": "SIxjCpJ6zbcB",
        "outputId": "9c4a219d-e05f-41d3-e410-e55a2565efdf"
      },
      "execution_count": null,
      "outputs": [
        {
          "output_type": "stream",
          "name": "stdout",
          "text": [
            "Foo\n"
          ]
        }
      ]
    },
    {
      "cell_type": "markdown",
      "source": [
        "Task04"
      ],
      "metadata": {
        "id": "luVr-VN-xQ43"
      }
    },
    {
      "cell_type": "code",
      "source": [
        "def function_name(string):\n",
        "  low = 0\n",
        "  upper = 0\n",
        "  for char in string:\n",
        "    if 97 <= ord(char) <= 122:\n",
        "      low += 1\n",
        "    elif 65 <= ord(char) <= 90:\n",
        "      upper += 1\n",
        "\n",
        "  print(f\"No. of Uppercase characters: {upper}\")\n",
        "  print(f\"No. of Lowercase characters: {low}\")\n",
        "\n",
        "function_name(\"The quick Sand Man\")"
      ],
      "metadata": {
        "colab": {
          "base_uri": "https://localhost:8080/"
        },
        "id": "rGedzRmi-iZT",
        "outputId": "0e286bee-66b2-4085-de46-66e7c21b0388"
      },
      "execution_count": null,
      "outputs": [
        {
          "output_type": "stream",
          "name": "stdout",
          "text": [
            "No. of Uppercase characters: 3\n",
            "No. of Lowercase characters: 12\n"
          ]
        }
      ]
    },
    {
      "cell_type": "markdown",
      "source": [
        "Task05"
      ],
      "metadata": {
        "id": "HvrrNuQ_BuWT"
      }
    },
    {
      "cell_type": "code",
      "source": [
        "def calculate_tax(age, salary, designation):\n",
        "  if age < 18:\n",
        "    tax = 0\n",
        "    print(tax)\n",
        "  elif designation == \"p1resident\":\n",
        "    tax = 0\n",
        "    print(tax)\n",
        "  elif salary < 10000:\n",
        "    tax = 0\n",
        "    print(tax)\n",
        "  elif 10000 <= salary <= 20000:\n",
        "    tax = salary*0.05\n",
        "    print(tax)\n",
        "  elif salary >= 20000:\n",
        "    tax  = salary*0.10\n",
        "    print(tax)\n",
        "\n",
        "age = int(input(\"Please enter your Age: \"))\n",
        "salary = int(input(\"Please enter your Salary: \"))\n",
        "designation = input(\"Please enter your job designation: \")\n",
        "\n",
        "calculate_tax(age, salary, designation)"
      ],
      "metadata": {
        "colab": {
          "base_uri": "https://localhost:8080/"
        },
        "id": "HjXVB8tQ-jmw",
        "outputId": "e03ebfcc-212a-4f8a-be7d-e63a00d163af"
      },
      "execution_count": null,
      "outputs": [
        {
          "output_type": "stream",
          "name": "stdout",
          "text": [
            "Please enter your Age: 20\n",
            "Please enter your Salary: 122000\n",
            "Please enter your job designation: president\n",
            "0\n"
          ]
        }
      ]
    },
    {
      "cell_type": "markdown",
      "source": [
        "Task06"
      ],
      "metadata": {
        "id": "tPW6nCjzFOI9"
      }
    },
    {
      "cell_type": "code",
      "source": [
        "def function_name(days):\n",
        "  years = days // 365\n",
        "  remainder = days % 365\n",
        "  month = remainder // 30\n",
        "  day = remainder % 30\n",
        "  print(f'{years} years, {month} months and {day} days')\n",
        "\n",
        "days = int(input(\"Number of days: \"))\n",
        "function_name(days)"
      ],
      "metadata": {
        "colab": {
          "base_uri": "https://localhost:8080/"
        },
        "id": "uhgdbb69FP1A",
        "outputId": "5bcf624f-0012-4f16-c092-d75f850aa157"
      },
      "execution_count": null,
      "outputs": [
        {
          "output_type": "stream",
          "name": "stdout",
          "text": [
            "Number of days: 2250\n",
            "6 years, 2 months and 0 days\n"
          ]
        }
      ]
    },
    {
      "cell_type": "markdown",
      "source": [
        "Task07"
      ],
      "metadata": {
        "id": "0ThL_i7CHeBy"
      }
    },
    {
      "cell_type": "code",
      "source": [
        "def show_palindrome(num):\n",
        "  for i in range(1,num+1):\n",
        "    print(i, end='')\n",
        "\n",
        "  for j in range(1,num):\n",
        "    print(num-j,end='')\n",
        "\n",
        "num = int(input(\"\"))\n",
        "show_palindrome(num)"
      ],
      "metadata": {
        "colab": {
          "base_uri": "https://localhost:8080/"
        },
        "id": "1t8DYAnJHfN4",
        "outputId": "9c00232b-2d13-42dc-ae29-b32af5883ab1"
      },
      "execution_count": null,
      "outputs": [
        {
          "output_type": "stream",
          "name": "stdout",
          "text": [
            "3\n",
            "12321"
          ]
        }
      ]
    },
    {
      "cell_type": "markdown",
      "source": [
        "Task08"
      ],
      "metadata": {
        "id": "By1Evs8nN_bI"
      }
    },
    {
      "cell_type": "code",
      "source": [
        "def show_palindrome_triangle(row):\n",
        "  for i in range(1, row+1):\n",
        "    print(\"   \"*(row-i),end='')\n",
        "    palindrome_row = show_palindrome(i)\n",
        "    for char in palindrome_row:\n",
        "      print(char, end=' ')\n",
        "    print()\n",
        "\n",
        "show_palindrome_triangle(num)"
      ],
      "metadata": {
        "colab": {
          "base_uri": "https://localhost:8080/"
        },
        "id": "9jw_bvYeN_En",
        "outputId": "2a9bf218-7941-463f-efbb-b6dc3ac7246c"
      },
      "execution_count": null,
      "outputs": [
        {
          "output_type": "stream",
          "name": "stdout",
          "text": [
            "      1 \n",
            "   1 2 1 \n",
            "1 2 3 2 1 \n"
          ]
        }
      ]
    },
    {
      "cell_type": "markdown",
      "source": [
        "Task09"
      ],
      "metadata": {
        "id": "n9ewY-CUQTyq"
      }
    },
    {
      "cell_type": "code",
      "source": [
        "import math\n",
        "def area_circumference_generator(r):\n",
        "  area = math.pi*r**2\n",
        "  circum = 2*math.pi*r\n",
        "  print(f'Area of the circle is {area} and circumference is {circum}')\n",
        "\n",
        "area_circumference_generator(1)"
      ],
      "metadata": {
        "colab": {
          "base_uri": "https://localhost:8080/"
        },
        "id": "TG2skpa9QU3C",
        "outputId": "51263212-5041-4537-d739-04761986bbbd"
      },
      "execution_count": null,
      "outputs": [
        {
          "output_type": "stream",
          "name": "stdout",
          "text": [
            "Area of the circle is 3.141592653589793 and circumference is 6.283185307179586\n"
          ]
        }
      ]
    },
    {
      "cell_type": "markdown",
      "source": [
        "Task10"
      ],
      "metadata": {
        "id": "sdMVzIclsodX"
      }
    },
    {
      "cell_type": "code",
      "source": [
        "def make_square(tuple):\n",
        "  starting,ending = tuple\n",
        "  dict = {}\n",
        "  for i in range(starting, ending+1):\n",
        "    dict[i] = i**2\n",
        "\n",
        "  print(dict)\n",
        "\n",
        "make_square((1,3))"
      ],
      "metadata": {
        "colab": {
          "base_uri": "https://localhost:8080/"
        },
        "id": "tgfhI3hjspW-",
        "outputId": "9668f05b-80cc-4a97-94d2-89d5dca62919"
      },
      "execution_count": null,
      "outputs": [
        {
          "output_type": "stream",
          "name": "stdout",
          "text": [
            "{1: 1, 2: 4, 3: 9}\n"
          ]
        }
      ]
    },
    {
      "cell_type": "markdown",
      "source": [
        "Task11"
      ],
      "metadata": {
        "id": "Vs89hVROty4H"
      }
    },
    {
      "cell_type": "code",
      "source": [
        "def rem_duplicate(input_tuple):\n",
        "  unique = []\n",
        "  for i in input_tuple:\n",
        "    if i not in unique:\n",
        "      unique.append(i)\n",
        "  print(tuple(unique))\n",
        "\n",
        "rem_duplicate((1,1,1,2,3,4,5,6,6,6,6,4,0,0,0))"
      ],
      "metadata": {
        "colab": {
          "base_uri": "https://localhost:8080/"
        },
        "id": "GliYtxi_t0TT",
        "outputId": "bf3d8158-d932-4aaf-db2d-2867260d9dca"
      },
      "execution_count": null,
      "outputs": [
        {
          "output_type": "stream",
          "name": "stdout",
          "text": [
            "(1, 2, 3, 4, 5, 6, 0)\n"
          ]
        }
      ]
    },
    {
      "cell_type": "markdown",
      "source": [
        "Task12"
      ],
      "metadata": {
        "id": "TDVwn1tAvor_"
      }
    },
    {
      "cell_type": "code",
      "source": [
        "def function_name(list):\n",
        "  new_list = []\n",
        "  removed_count = 0\n",
        "  for i in list:\n",
        "    if new_list.count(i) < 2:\n",
        "      new_list.append(i)\n",
        "    else:\n",
        "      removed_count += 1\n",
        "\n",
        "  print(f'Removed: {removed_count}')\n",
        "  print(new_list)\n",
        "\n",
        "function_name([1, 2, 3, 3, 3, 3, 4, 5, 8, 8])"
      ],
      "metadata": {
        "colab": {
          "base_uri": "https://localhost:8080/"
        },
        "id": "dSUNlAHlvpzK",
        "outputId": "63676d3b-9ef7-4a53-89cb-8eb692fcdead"
      },
      "execution_count": null,
      "outputs": [
        {
          "output_type": "stream",
          "name": "stdout",
          "text": [
            "Removed: 2\n",
            "[1, 2, 3, 3, 4, 5, 8, 8]\n"
          ]
        }
      ]
    },
    {
      "cell_type": "markdown",
      "source": [
        "Task13"
      ],
      "metadata": {
        "id": "m3dVt_BZA72i"
      }
    },
    {
      "cell_type": "code",
      "source": [
        "def function_name(operator, f, s):\n",
        "  if operator == '+':\n",
        "    print(f+s)\n",
        "  elif operator == '-':\n",
        "    print(f-s)\n",
        "  elif operator == '*':\n",
        "    print(f*s)\n",
        "  elif operator == '/':\n",
        "    print(f//s)\n",
        "\n",
        "operator = input(\"Please input the operator: \")\n",
        "f = float(input(\"Please ente the first operand: \"))\n",
        "s = float(input(\"Please enter the second operator: \"))\n",
        "\n",
        "function_name(operator, f, s)"
      ],
      "metadata": {
        "colab": {
          "base_uri": "https://localhost:8080/"
        },
        "id": "TbSqlRzKA9Zg",
        "outputId": "ebd7425a-5a03-4df6-c15b-803643f9997b"
      },
      "execution_count": 7,
      "outputs": [
        {
          "output_type": "stream",
          "name": "stdout",
          "text": [
            "Please input the operator: +\n",
            "Please ente the first operand: 10\n",
            "Please enter the second operator: 20\n",
            "30.0\n"
          ]
        }
      ]
    },
    {
      "cell_type": "markdown",
      "source": [
        "Task14"
      ],
      "metadata": {
        "id": "6wl_d1GzCd4e"
      }
    },
    {
      "cell_type": "code",
      "source": [
        "def function_name(Sentence, Position):\n",
        "    new_string = ''\n",
        "    removed_chars = ''\n",
        "\n",
        "    for i in range(len(Sentence)):\n",
        "        if i != 0 and i % Position == 0:\n",
        "            removed_chars += Sentence[i]\n",
        "        else:\n",
        "            new_string += Sentence[i]\n",
        "\n",
        "    result = new_string + removed_chars\n",
        "    print(result)\n",
        "\n",
        "\n",
        "Sentence = input(\"Please enter the sentence: \")\n",
        "Position = int(input(\"Please enter the position number: \"))\n",
        "\n",
        "function_name(Sentence, Position)"
      ],
      "metadata": {
        "colab": {
          "base_uri": "https://localhost:8080/"
        },
        "id": "5cuIq2P-CfQ9",
        "outputId": "b750c74b-4a03-41be-b1d7-c32e23127f87"
      },
      "execution_count": 16,
      "outputs": [
        {
          "output_type": "stream",
          "name": "stdout",
          "text": [
            "Please enter the sentence: I love programming\n",
            "Please enter the position number: 3\n",
            "I lveprgrmmngo oai\n"
          ]
        }
      ]
    },
    {
      "cell_type": "markdown",
      "source": [
        "Task15"
      ],
      "metadata": {
        "id": "1qjUE97tGv7X"
      }
    },
    {
      "cell_type": "code",
      "source": [
        "def calculate_total(order_items, location=\"Dhanmondi\"):\n",
        "    # Define the item prices\n",
        "    item_prices = {\n",
        "        \"Rice\": 105,\n",
        "        \"Potato\": 20,\n",
        "        \"Chicken\": 250,\n",
        "        \"Beef\": 510,\n",
        "        \"Oil\": 85\n",
        "    }\n",
        "\n",
        "    total_price = 0\n",
        "    for item in order_items:\n",
        "        if item in item_prices:\n",
        "            total_price += item_prices[item]\n",
        "\n",
        "    if location == \"Dhanmondi\":\n",
        "        total_price += 30\n",
        "    else:\n",
        "        total_price += 70\n",
        "\n",
        "    return total_price\n",
        "\n",
        "print(calculate_total([\"Rice\", \"Beef\", \"Rice\"], \"Mohakhali\"))  # Output: 790\n",
        "print(calculate_total([\"Rice\", \"Beef\", \"Rice\"]))               # Output: 750"
      ],
      "metadata": {
        "colab": {
          "base_uri": "https://localhost:8080/"
        },
        "id": "ltXCOsx4Gw09",
        "outputId": "b0710d08-a242-450f-d490-0589e12b5a14"
      },
      "execution_count": 33,
      "outputs": [
        {
          "output_type": "stream",
          "name": "stdout",
          "text": [
            "790\n",
            "750\n"
          ]
        }
      ]
    }
  ]
}