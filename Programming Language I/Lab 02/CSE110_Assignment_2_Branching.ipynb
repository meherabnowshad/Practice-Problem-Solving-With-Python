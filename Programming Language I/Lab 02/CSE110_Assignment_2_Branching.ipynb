{
  "nbformat": 4,
  "nbformat_minor": 0,
  "metadata": {
    "colab": {
      "provenance": []
    },
    "kernelspec": {
      "name": "python3",
      "display_name": "Python 3"
    },
    "language_info": {
      "name": "python"
    }
  },
  "cells": [
    {
      "cell_type": "markdown",
      "source": [
        "Task 1"
      ],
      "metadata": {
        "id": "d1QkJoGqHTuh"
      }
    },
    {
      "cell_type": "code",
      "execution_count": 1,
      "metadata": {
        "colab": {
          "base_uri": "https://localhost:8080/"
        },
        "id": "aXrVGt_v-Xbb",
        "outputId": "2734c87f-ef75-46db-a4e2-f2f95e77d693"
      },
      "outputs": [
        {
          "output_type": "stream",
          "name": "stdout",
          "text": [
            "Please enter the first number: 4\n",
            "Please enter the second number: 5\n",
            "Sum = 9\n",
            "Product = 20\n",
            "Difference = -1\n"
          ]
        }
      ],
      "source": [
        "first_number = int(input(\"Please enter the first number: \"))\n",
        "second_number = int(input(\"Please enter the second number: \"))\n",
        "print(f'Sum = {first_number+second_number}')\n",
        "print(f'Product = {first_number*second_number}')\n",
        "print(f'Difference = {first_number-second_number}')"
      ]
    },
    {
      "cell_type": "markdown",
      "source": [
        "Task 2"
      ],
      "metadata": {
        "id": "WyaxPPF7IPh0"
      }
    },
    {
      "cell_type": "code",
      "source": [
        "import math\n",
        "\n",
        "radius = int(input(\"Please enter the radius: \"))\n",
        "print(f'Area is {math.pi*radius**2}')\n",
        "print(f'Circumference is {2*math.pi*radius}')"
      ],
      "metadata": {
        "colab": {
          "base_uri": "https://localhost:8080/"
        },
        "id": "bQeXhPIZIQYW",
        "outputId": "77bad0a0-7d13-445c-c671-fabe6498161d"
      },
      "execution_count": 2,
      "outputs": [
        {
          "output_type": "stream",
          "name": "stdout",
          "text": [
            "Please enter the radius: 4\n",
            "Area is 50.26548245743669\n",
            "Circumference is 25.132741228718345\n"
          ]
        }
      ]
    },
    {
      "cell_type": "markdown",
      "source": [
        "Task 3"
      ],
      "metadata": {
        "id": "sJf2CGjYJI_7"
      }
    },
    {
      "cell_type": "code",
      "source": [
        "first_number = int(input(\"Please enter the first number: \"))\n",
        "second_number = int(input(\"Please enter the second number: \"))\n",
        "if first_number > second_number:\n",
        "  print(\"First is greater\")\n",
        "else:\n",
        "  print(\"Second is greater\")"
      ],
      "metadata": {
        "colab": {
          "base_uri": "https://localhost:8080/"
        },
        "id": "wMgqURobJKIE",
        "outputId": "63f593c1-a5b2-44d1-9bf7-4edc0404f407"
      },
      "execution_count": 3,
      "outputs": [
        {
          "output_type": "stream",
          "name": "stdout",
          "text": [
            "Please enter the first number: 7\n",
            "Please enter the second number: 3\n",
            "First is greater\n"
          ]
        }
      ]
    },
    {
      "cell_type": "markdown",
      "source": [
        "Task 4"
      ],
      "metadata": {
        "id": "xO7AIcL7JhzJ"
      }
    },
    {
      "cell_type": "code",
      "source": [
        "first_number = int(input(\"Please enter the first number: \"))\n",
        "second_number = int(input(\"Please enter the second number: \"))\n",
        "\n",
        "if first_number > second_number:\n",
        "  print(first_number - second_number)\n",
        "else:\n",
        "  print(second_number - first_number)"
      ],
      "metadata": {
        "colab": {
          "base_uri": "https://localhost:8080/"
        },
        "id": "VRTRG7D3Ji0X",
        "outputId": "7fe7f873-3d1b-4d40-d906-ecb6dc323e2f"
      },
      "execution_count": 7,
      "outputs": [
        {
          "output_type": "stream",
          "name": "stdout",
          "text": [
            "Please enter the first number: -40\n",
            "Please enter the second number: -4\n",
            "36\n"
          ]
        }
      ]
    },
    {
      "cell_type": "markdown",
      "source": [
        "Task 5"
      ],
      "metadata": {
        "id": "uUzlznowK2s1"
      }
    },
    {
      "cell_type": "code",
      "source": [
        "number = int(input(\"Please enter the number: \"))\n",
        "if number % 2 == 0:\n",
        "  print(f'The number is even')\n",
        "else:\n",
        "  print(f'The number is odd')"
      ],
      "metadata": {
        "colab": {
          "base_uri": "https://localhost:8080/"
        },
        "id": "p0_sHyAUK4MS",
        "outputId": "df279ae1-5721-44c7-9aba-45f1ead794ff"
      },
      "execution_count": 9,
      "outputs": [
        {
          "output_type": "stream",
          "name": "stdout",
          "text": [
            "Please enter the number: 7\n",
            "The number is odd\n"
          ]
        }
      ]
    },
    {
      "cell_type": "markdown",
      "source": [
        "Task 6"
      ],
      "metadata": {
        "id": "MJm0_vM4LfY7"
      }
    },
    {
      "cell_type": "code",
      "source": [
        "number = int(input(\"Please enter the number: \"))\n",
        "\n",
        "if number % 2 == 0 or number % 5 == 0:\n",
        "  print(number)\n",
        "else:\n",
        "  print(\"Not a multiple of 2 OR 5\")"
      ],
      "metadata": {
        "colab": {
          "base_uri": "https://localhost:8080/"
        },
        "id": "e1DQ82IRLenb",
        "outputId": "8c386748-d68c-4f3f-e4a9-5b8bb5058975"
      },
      "execution_count": 11,
      "outputs": [
        {
          "output_type": "stream",
          "name": "stdout",
          "text": [
            "Please enter the number: 5\n",
            "5\n"
          ]
        }
      ]
    },
    {
      "cell_type": "markdown",
      "source": [
        "Task 7"
      ],
      "metadata": {
        "id": "sfZVOoHGL7M4"
      }
    },
    {
      "cell_type": "code",
      "source": [
        "number = int(input(\"Please enter the number: \"))\n",
        "\n",
        "if number % 2 == 0 and number % 5 == 0:\n",
        "  print(\"Multiple of 2 and 5 both\")\n",
        "else:\n",
        "  print(number)"
      ],
      "metadata": {
        "colab": {
          "base_uri": "https://localhost:8080/"
        },
        "id": "mR-WpyY9L8pM",
        "outputId": "5b17473f-fec7-49cb-973e-8ca9c997f855"
      },
      "execution_count": 13,
      "outputs": [
        {
          "output_type": "stream",
          "name": "stdout",
          "text": [
            "Please enter the number: 15\n",
            "15\n"
          ]
        }
      ]
    },
    {
      "cell_type": "markdown",
      "source": [
        "Task 8"
      ],
      "metadata": {
        "id": "qMTB_Gi0NvHF"
      }
    },
    {
      "cell_type": "code",
      "source": [
        "number = int(input(\"Please enter the number: \"))\n",
        "\n",
        "if number % 2 == 0 and number % 5 == 0:\n",
        "  print(number)\n",
        "else:\n",
        "  print(\"Not multiple of 2 and 5 both\")"
      ],
      "metadata": {
        "colab": {
          "base_uri": "https://localhost:8080/"
        },
        "id": "IKXYjq3uNxIE",
        "outputId": "4795e6fa-cd44-43a3-ab75-71daec2c9a89"
      },
      "execution_count": 16,
      "outputs": [
        {
          "output_type": "stream",
          "name": "stdout",
          "text": [
            "Please enter the number: 15\n",
            "Not multiple of 2 and 5 both\n"
          ]
        }
      ]
    },
    {
      "cell_type": "markdown",
      "source": [
        "Task 9"
      ],
      "metadata": {
        "id": "lZLAtVJlOGGH"
      }
    },
    {
      "cell_type": "code",
      "source": [
        "seconds = int(input(\"Please enter the seconds: \"))\n",
        "hour = seconds // 3600\n",
        "remaining = seconds % 3600\n",
        "minute = remaining // 60\n",
        "seonds = remaining % 60\n",
        "print(f'Hours: {hour} Minutes: {minute} Seconds: {seonds}')"
      ],
      "metadata": {
        "colab": {
          "base_uri": "https://localhost:8080/"
        },
        "id": "7dM0I9leOG_i",
        "outputId": "75c74d1b-8834-4bb2-9ff3-01782025974d"
      },
      "execution_count": 18,
      "outputs": [
        {
          "output_type": "stream",
          "name": "stdout",
          "text": [
            "Please enter the seconds: 10000\n",
            "Hours: 2 Minutes: 46 Seconds: 40\n"
          ]
        }
      ]
    },
    {
      "cell_type": "markdown",
      "source": [
        "Task 10"
      ],
      "metadata": {
        "id": "QdU1mFYU4m5C"
      }
    },
    {
      "cell_type": "code",
      "source": [
        "worked_hour = int(input(\"Please enter the total hours worked: \"))\n",
        "\n",
        "if worked_hour < 0:\n",
        "  print(\"Hour cannot be negative.\")\n",
        "elif worked_hour <= 40:\n",
        "  print(worked_hour*200)\n",
        "elif worked_hour > 168:\n",
        "  print(\"Impossible to work more than 168 hours weekly\")\n",
        "elif worked_hour > 40:\n",
        "  print(8000+(worked_hour-40)*300)"
      ],
      "metadata": {
        "colab": {
          "base_uri": "https://localhost:8080/"
        },
        "id": "T-B1If7M4oBY",
        "outputId": "b87b63ff-043b-4243-a32e-762e0eb54136"
      },
      "execution_count": 4,
      "outputs": [
        {
          "output_type": "stream",
          "name": "stdout",
          "text": [
            "Please enter the total hours worked: 100\n",
            "26000\n"
          ]
        }
      ]
    },
    {
      "cell_type": "markdown",
      "source": [
        "Task 11"
      ],
      "metadata": {
        "id": "Xc1ZReVm6ykW"
      }
    },
    {
      "cell_type": "code",
      "source": [
        "S = int(input(\"Please enter the value of S: \"))\n",
        "\n",
        "if S < 100:\n",
        "  L = 3000-125*S**2\n",
        "else:\n",
        "  L = 12000/(4+S**2/14900)\n",
        "\n",
        "print(L)"
      ],
      "metadata": {
        "colab": {
          "base_uri": "https://localhost:8080/"
        },
        "id": "Z7FVhrYy60sm",
        "outputId": "60d6a633-270a-40f6-959f-0030e7b98d5c"
      },
      "execution_count": 6,
      "outputs": [
        {
          "output_type": "stream",
          "name": "stdout",
          "text": [
            "Please enter the value of S: 120\n",
            "2416.2162162162163\n"
          ]
        }
      ]
    },
    {
      "cell_type": "markdown",
      "source": [
        "Task 12"
      ],
      "metadata": {
        "id": "mE4Y-SF97zzD"
      }
    },
    {
      "cell_type": "code",
      "source": [
        "time = int(input(\"Please enter the hour: \"))\n",
        "\n",
        "if time < 0:\n",
        "  print(\"Wrong time\")\n",
        "elif 4 <= time <= 6:\n",
        "  print(\"Breakfast\")\n",
        "elif 12 <= time <= 13:\n",
        "  print(\"Lunch\")\n",
        "elif 16 <= time <= 17:\n",
        "  print(\"Snacks\")\n",
        "elif 19 <= time <= 20:\n",
        "  print(\"Dinner\")\n",
        "elif time >= 24:\n",
        "  print(\"Wrong time\")\n",
        "else:\n",
        "  print(\"Patience is virtue\")"
      ],
      "metadata": {
        "colab": {
          "base_uri": "https://localhost:8080/"
        },
        "id": "j1Kb3W7H71fB",
        "outputId": "24cbd7a7-dc1d-49af-fe67-b38ec0887562"
      },
      "execution_count": 10,
      "outputs": [
        {
          "output_type": "stream",
          "name": "stdout",
          "text": [
            "Please enter the hour: 24\n",
            "Wrong time\n"
          ]
        }
      ]
    },
    {
      "cell_type": "markdown",
      "source": [
        "Task 13"
      ],
      "metadata": {
        "id": "423QVGo9-CIq"
      }
    },
    {
      "cell_type": "code",
      "source": [
        "mark = int(input(\"Please enter your mark: \"))\n",
        "\n",
        "if mark < 0 or mark > 100:\n",
        "  print(\"Invalid mark\")\n",
        "elif mark < 50:\n",
        "  print(\"F\")\n",
        "elif 50 <= mark <= 59:\n",
        "  print(\"E\")\n",
        "elif 60 <= mark <=69:\n",
        "  print(\"D\")\n",
        "elif 70 <= mark <= 79:\n",
        "  print(\"C\")\n",
        "elif 80 <= mark <= 89:\n",
        "  print(\"B\")\n",
        "else:\n",
        "  print(\"A\")"
      ],
      "metadata": {
        "colab": {
          "base_uri": "https://localhost:8080/"
        },
        "id": "4pmczlb395ro",
        "outputId": "02e7b88b-f1da-4c7e-c215-3eccf6ed39f6"
      },
      "execution_count": 12,
      "outputs": [
        {
          "output_type": "stream",
          "name": "stdout",
          "text": [
            "Please enter your mark: 0\n",
            "F\n"
          ]
        }
      ]
    },
    {
      "cell_type": "markdown",
      "source": [
        "Task 14\n"
      ],
      "metadata": {
        "id": "pI9aWqRM-9mi"
      }
    },
    {
      "cell_type": "code",
      "source": [
        "distance = int(input(\"Please enter the distance in meters: \"))/1000\n",
        "seconds = int(input(\"Please enter the time in seconds: \"))//3600\n",
        "\n",
        "velocity = distance/seconds\n",
        "\n",
        "if velocity < 60 :\n",
        "  print(\"Too slow. Needs more changes.\")\n",
        "elif 60 <= velocity <= 90:\n",
        "  print(\"Velocity is okay. The car is ready!\")\n",
        "else:\n",
        "  print(\"Too fast. Only a few changes should suffice\")"
      ],
      "metadata": {
        "colab": {
          "base_uri": "https://localhost:8080/"
        },
        "id": "zBtptqv7_A0l",
        "outputId": "3466bb6d-a864-4530-e1b7-f25739ca283c"
      },
      "execution_count": 15,
      "outputs": [
        {
          "output_type": "stream",
          "name": "stdout",
          "text": [
            "Please enter the distance in meters: 160000\n",
            "Please enter the time in seconds: 7200\n",
            "Velocity is okay. The car is ready!\n"
          ]
        }
      ]
    },
    {
      "cell_type": "markdown",
      "source": [
        "Task 15"
      ],
      "metadata": {
        "id": "O1lt7YogEvdW"
      }
    },
    {
      "cell_type": "code",
      "source": [
        "cgpa = float(input(\"Please enter your CGPA: \"))\n",
        "credit = int(input(\"Enter your completed credit: \"))\n",
        "\n",
        "if credit >= 30:\n",
        "  if 3.80 <= cgpa <= 3.89:\n",
        "    print(\"The student is eligible for a waiver of\"' '+\"25 percent\")\n",
        "  elif 3.90 <= cgpa <= 3.94:\n",
        "    print(\"The student is eligible for a waiver of\"' '+\"50 percent\")\n",
        "  elif 3.95 <= cgpa <= 3.99:\n",
        "    print(\"The student is eligible for a waiver of\"' '+\"75 percent\")\n",
        "  elif cgpa == 4.00:\n",
        "    print(\"The student is eligible for a waiver of\"' '+\"100 percent\")\n",
        "else:\n",
        "  print(\"The student is not eligible for a waiver\")"
      ],
      "metadata": {
        "colab": {
          "base_uri": "https://localhost:8080/"
        },
        "id": "vvozzLu1Ey6R",
        "outputId": "ec94fc2d-af73-4b26-c6df-d3956da97442"
      },
      "execution_count": 20,
      "outputs": [
        {
          "output_type": "stream",
          "name": "stdout",
          "text": [
            "Please enter your CGPA: 3.79\n",
            "Enter your completed credit: 24\n",
            "The student is not eligible for a waiver\n"
          ]
        }
      ]
    },
    {
      "cell_type": "markdown",
      "source": [
        "Task 20"
      ],
      "metadata": {
        "id": "HVoY20TqehQt"
      }
    },
    {
      "cell_type": "code",
      "source": [
        "number = int(input(\"Please enter the integer: \"))\n",
        "\n",
        "if number % 2 == 0 or number % 5 == 0:\n",
        "  print(\"No\")\n",
        "else:\n",
        "  print(number)"
      ],
      "metadata": {
        "colab": {
          "base_uri": "https://localhost:8080/"
        },
        "id": "sbhQKDRdeilm",
        "outputId": "a4c799ed-f46b-4dbf-b315-a68c0c337605"
      },
      "execution_count": 22,
      "outputs": [
        {
          "output_type": "stream",
          "name": "stdout",
          "text": [
            "Please enter the integer: 5\n",
            "No\n"
          ]
        }
      ]
    },
    {
      "cell_type": "markdown",
      "source": [
        "Task 21\n"
      ],
      "metadata": {
        "id": "GjViJoYie4Ar"
      }
    },
    {
      "cell_type": "code",
      "source": [
        "number = int(input(\"Please enter the integer: \"))\n",
        "\n",
        "if number % 2 == 0 or number % 5 == 0:\n",
        "  print(\"No\")\n",
        "else:\n",
        "  print(number)"
      ],
      "metadata": {
        "colab": {
          "base_uri": "https://localhost:8080/"
        },
        "id": "HRkUvTXve5NN",
        "outputId": "ade30d1c-e98b-4575-b680-d7977cf11000"
      },
      "execution_count": 25,
      "outputs": [
        {
          "output_type": "stream",
          "name": "stdout",
          "text": [
            "Please enter the integer: 14\n",
            "No\n"
          ]
        }
      ]
    },
    {
      "cell_type": "markdown",
      "source": [
        "Task 22"
      ],
      "metadata": {
        "id": "2fRDHfgWfW9Z"
      }
    },
    {
      "cell_type": "code",
      "source": [
        "canvas = int(input(\"Enter the amount of canvas you want to buy: \"))\n",
        "paint_tubes = int(input(\"Enter the amount of paint tubes you want to buy: \"))\n",
        "\n",
        "price = int(canvas*120 + paint_tubes*75)\n",
        "\n",
        "if price <= 299:\n",
        "  discount = 0\n",
        "elif 300 <= price <= 499:\n",
        "  discount = 10\n",
        "elif 500 <= price <= 749:\n",
        "  discount = 20\n",
        "elif 750 <= price <= 999:\n",
        "  discount = 50\n",
        "elif price >= 1000:\n",
        "  discount = 150\n",
        "\n",
        "print(f\"Previous total: {price}\")\n",
        "print(f'New total after discount: {price-discount}')"
      ],
      "metadata": {
        "colab": {
          "base_uri": "https://localhost:8080/"
        },
        "id": "La-713oqfX6Y",
        "outputId": "965a6c81-f727-4fa9-c8ba-c909eede5bbb"
      },
      "execution_count": 35,
      "outputs": [
        {
          "output_type": "stream",
          "name": "stdout",
          "text": [
            "Enter the amount of canvas you want to buy: 5\n",
            "Enter the amount of paint tubes you want to buy: 8\n",
            "Previous total: 1200\n",
            "New total after discount: 1050\n"
          ]
        }
      ]
    },
    {
      "cell_type": "markdown",
      "source": [
        "Task 23"
      ],
      "metadata": {
        "id": "UveCSQV6hJ89"
      }
    },
    {
      "cell_type": "code",
      "source": [
        "farenhit = int(input(\"Please the farenhit temperature: \"))\n",
        "\n",
        "degree = round(((farenhit)-32)*0.56,1)\n",
        "\n",
        "if degree < 20:\n",
        "  season = \"Winter\"\n",
        "elif 20 <= degree <= 25:\n",
        "  season = \"Autumn\"\n",
        "elif 25 < degree < 30:\n",
        "  season = \"Spring\"\n",
        "else:\n",
        "  season = \"Summer\"\n",
        "\n",
        "print(f'{degree} degrees C')\n",
        "print(season)"
      ],
      "metadata": {
        "colab": {
          "base_uri": "https://localhost:8080/"
        },
        "id": "5Ld51_PXgblt",
        "outputId": "625c8669-9569-4c88-f4f1-623054497547"
      },
      "execution_count": 40,
      "outputs": [
        {
          "output_type": "stream",
          "name": "stdout",
          "text": [
            "Please the farenhit temperature: 77\n",
            "25.2 degrees C\n",
            "Spring\n"
          ]
        }
      ]
    }
  ]
}