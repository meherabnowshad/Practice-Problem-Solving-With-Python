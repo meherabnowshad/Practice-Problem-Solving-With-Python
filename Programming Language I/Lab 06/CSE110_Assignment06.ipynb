{
  "nbformat": 4,
  "nbformat_minor": 0,
  "metadata": {
    "colab": {
      "provenance": []
    },
    "kernelspec": {
      "name": "python3",
      "display_name": "Python 3"
    },
    "language_info": {
      "name": "python"
    }
  },
  "cells": [
    {
      "cell_type": "markdown",
      "source": [
        "Task01"
      ],
      "metadata": {
        "id": "YPDiks5EoSYE"
      }
    },
    {
      "cell_type": "code",
      "source": [
        "a_tuple = (\"The Institute\", (\"Best Mystery & Thriller\", \"The Silent Patient\", 68821), 75717,\n",
        "[1, 2, 3, 400, 5, 6, 7], (\"Best Fiction\", \"The Testaments\", 98291))\n",
        "\n",
        "print(a_tuple[3][3])"
      ],
      "metadata": {
        "colab": {
          "base_uri": "https://localhost:8080/"
        },
        "id": "7vuqv1PVoNj3",
        "outputId": "c7ab83d1-c66b-4fc1-cc60-3f5b409c2884"
      },
      "execution_count": null,
      "outputs": [
        {
          "output_type": "stream",
          "name": "stdout",
          "text": [
            "400\n"
          ]
        }
      ]
    },
    {
      "cell_type": "markdown",
      "source": [
        "Task02"
      ],
      "metadata": {
        "id": "I_UvQnmdpLJy"
      }
    },
    {
      "cell_type": "code",
      "source": [
        "a_tuple = (10, 20, 24, 25, 26, 35, 70)\n",
        "print(a_tuple[2:-2])"
      ],
      "metadata": {
        "colab": {
          "base_uri": "https://localhost:8080/"
        },
        "id": "z184MRqBpMR5",
        "outputId": "3eb49c5a-7d78-475a-c373-43ff721ec556"
      },
      "execution_count": null,
      "outputs": [
        {
          "output_type": "stream",
          "name": "stdout",
          "text": [
            "(24, 25, 26)\n"
          ]
        }
      ]
    },
    {
      "cell_type": "markdown",
      "source": [
        "Task03"
      ],
      "metadata": {
        "id": "Mt9XYTm3p4DG"
      }
    },
    {
      "cell_type": "code",
      "source": [
        "book_info = (\n",
        "(\"Best Mystery & Thriller\",\"The Silent Patient\",68,821),\n",
        "(\"Best Horror\",\"The Institute\",75,717),\n",
        "(\"Best History & Biography\",\"The five\",31,783 ),\n",
        "(\"Best Fiction\",\"The Testaments\",98,291)\n",
        ")\n",
        "\n",
        "print(f'size of the tuple is: {len(book_info)}')\n",
        "for i in book_info:\n",
        "  print(i)"
      ],
      "metadata": {
        "colab": {
          "base_uri": "https://localhost:8080/"
        },
        "id": "gnsx3nd2p7Ly",
        "outputId": "816c0e77-4d97-4c8d-8643-0d9eb44561a2"
      },
      "execution_count": null,
      "outputs": [
        {
          "output_type": "stream",
          "name": "stdout",
          "text": [
            "size of the tuple is: 4\n",
            "('Best Mystery & Thriller', 'The Silent Patient', 68, 821)\n",
            "('Best Horror', 'The Institute', 75, 717)\n",
            "('Best History & Biography', 'The five', 31, 783)\n",
            "('Best Fiction', 'The Testaments', 98, 291)\n"
          ]
        }
      ]
    },
    {
      "cell_type": "markdown",
      "source": [
        "Task04"
      ],
      "metadata": {
        "id": "KEfINKLyq9MC"
      }
    },
    {
      "cell_type": "code",
      "source": [
        "book_info = (\n",
        "(\"Best Mystery & Thriller\",\"The Silent Patient\",68821),\n",
        "(\"Best Horror\",\"The Institute\",75717),\n",
        "(\"Best History & Biography\",\"The five\",31783 ),\n",
        "(\"Best Fiction\",\"The Testaments\",98291)\n",
        ")\n",
        "\n",
        "for i in range(len(book_info)):\n",
        "  print(f'{book_info[i][1]} won the \"{book_info[i][0]}\" category with {book_info[i][2]} votes')"
      ],
      "metadata": {
        "colab": {
          "base_uri": "https://localhost:8080/"
        },
        "id": "nkNAvbS0q-l-",
        "outputId": "56d6ade8-e2c4-401b-e766-06d8c795f052"
      },
      "execution_count": null,
      "outputs": [
        {
          "output_type": "stream",
          "name": "stdout",
          "text": [
            "The Silent Patient won the \"Best Mystery & Thriller\" category with 68821 votes\n",
            "The Institute won the \"Best Horror\" category with 75717 votes\n",
            "The five won the \"Best History & Biography\" category with 31783 votes\n",
            "The Testaments won the \"Best Fiction\" category with 98291 votes\n"
          ]
        }
      ]
    },
    {
      "cell_type": "markdown",
      "source": [
        "Task05"
      ],
      "metadata": {
        "id": "jxU-YLuos3g6"
      }
    },
    {
      "cell_type": "code",
      "source": [
        "a_tuple =  (10, 8, 5, 2, 10, 15, 10, 8, 5, 8, 8, 2)\n",
        "\n",
        "take = int(input())\n",
        "\n",
        "count = 0\n",
        "\n",
        "for i in a_tuple:\n",
        "  # print(i)\n",
        "  if i == take:\n",
        "    count += 1\n",
        "\n",
        "print(f'{take} appears {count} times in the tuple')"
      ],
      "metadata": {
        "colab": {
          "base_uri": "https://localhost:8080/"
        },
        "id": "1mc_n1rgshAc",
        "outputId": "2d606d33-10cd-448b-a53a-0ac285049058"
      },
      "execution_count": null,
      "outputs": [
        {
          "output_type": "stream",
          "name": "stdout",
          "text": [
            "8\n",
            "8 appears 4 times in the tuple\n"
          ]
        }
      ]
    },
    {
      "cell_type": "markdown",
      "source": [
        "Task06"
      ],
      "metadata": {
        "id": "avS_YvHbmRZy"
      }
    },
    {
      "cell_type": "code",
      "source": [
        "a_tuple = ('a', 'b', 'c', 'd', 'e', 'f', 'g', 'h')\n",
        "y = list(a_tuple)\n",
        "y  = y[::-1]\n",
        "a_tuple = tuple(y)\n",
        "print(a_tuple)"
      ],
      "metadata": {
        "id": "-Gj8SPY0mSol",
        "colab": {
          "base_uri": "https://localhost:8080/"
        },
        "outputId": "3c9929e9-4851-4724-9f28-d002045a8ef0"
      },
      "execution_count": null,
      "outputs": [
        {
          "output_type": "stream",
          "name": "stdout",
          "text": [
            "('h', 'g', 'f', 'e', 'd', 'c', 'b', 'a')\n"
          ]
        }
      ]
    },
    {
      "cell_type": "markdown",
      "source": [
        "Task07"
      ],
      "metadata": {
        "id": "UI9zojoJ9AT5"
      }
    },
    {
      "cell_type": "code",
      "source": [
        "a = {'Harry':15, 'Draco':8, 'Nevil':19}\n",
        "b = {'Ginie':18, 'Luna': 14}\n",
        "c = dict()\n",
        "c.update(a)\n",
        "c.update(b)\n",
        "print(c)"
      ],
      "metadata": {
        "colab": {
          "base_uri": "https://localhost:8080/"
        },
        "id": "7Q1LoYWR9CKd",
        "outputId": "bbf336c3-95f0-44be-af1c-b5e8314ff072"
      },
      "execution_count": null,
      "outputs": [
        {
          "output_type": "stream",
          "name": "stdout",
          "text": [
            "{'Harry': 15, 'Draco': 8, 'Nevil': 19, 'Ginie': 18, 'Luna': 14}\n"
          ]
        }
      ]
    },
    {
      "cell_type": "markdown",
      "source": [
        "Task08"
      ],
      "metadata": {
        "id": "I9sIp1cr-Fnd"
      }
    },
    {
      "cell_type": "code",
      "source": [
        "a = input(\"Enter the dictionary: \")\n",
        "\n",
        "pairs = a.split(',')\n",
        "# print(pairs)\n",
        "\n",
        "my_dict = {}\n",
        "\n",
        "for i in pairs:\n",
        "  key, value = i.split(':')\n",
        "  my_dict[key] = int(value)\n",
        "\n",
        "# print(my_dict)\n",
        "\n",
        "sum = 0\n",
        "count = 0\n",
        "\n",
        "for i in my_dict.values():\n",
        "  sum += i\n",
        "  count += 1\n",
        "\n",
        "print(f'Average is {sum//count}.')"
      ],
      "metadata": {
        "id": "tOBTVW7Z-G7K",
        "colab": {
          "base_uri": "https://localhost:8080/"
        },
        "outputId": "689e4af8-75f4-44c8-a5bd-bc030c605180"
      },
      "execution_count": 10,
      "outputs": [
        {
          "output_type": "stream",
          "name": "stdout",
          "text": [
            "Enter the dictionary: Jon:100, Dan:200, Rob:300\n",
            "Average is 200.\n"
          ]
        }
      ]
    },
    {
      "cell_type": "markdown",
      "source": [
        "Task09"
      ],
      "metadata": {
        "id": "o4wJF40A-WQF"
      }
    },
    {
      "cell_type": "code",
      "source": [
        "exam_marks = {'Cierra Vega': 175, 'Alden Cantrell': 200, 'Kierra Gentry': 165, 'Pierre Cox': 190}\n",
        "\n",
        "take = int(input(\"Enter the number: \"))\n",
        "new_dict = {}\n",
        "for i,j in exam_marks.items():\n",
        "  if j > take:\n",
        "    new_dict[i] = j\n",
        "\n",
        "print(new_dict)"
      ],
      "metadata": {
        "colab": {
          "base_uri": "https://localhost:8080/"
        },
        "id": "ElF8DI4Y-Xcf",
        "outputId": "5613c286-11ff-4c3a-d3ef-fe294528f904"
      },
      "execution_count": 11,
      "outputs": [
        {
          "output_type": "stream",
          "name": "stdout",
          "text": [
            "Enter the number: 170\n",
            "{'Cierra Vega': 175, 'Alden Cantrell': 200, 'Pierre Cox': 190}\n"
          ]
        }
      ]
    },
    {
      "cell_type": "markdown",
      "source": [
        "Task10\n"
      ],
      "metadata": {
        "id": "92RrCcG7_YFY"
      }
    },
    {
      "cell_type": "code",
      "source": [
        "a_dict = {'sci fi': 12, 'mystery': 15, 'horror': 8, 'mythology': 10, 'young_adult': 4, 'adventure':14}\n",
        "\n",
        "max = 0\n",
        "name = ''\n",
        "for i,j  in a_dict.items():\n",
        "  if j > max:\n",
        "    max = j\n",
        "    name = i\n",
        "\n",
        "print(f\"The highest selling book genre is '{name}' and the number of books sold are {max}.\")"
      ],
      "metadata": {
        "colab": {
          "base_uri": "https://localhost:8080/"
        },
        "id": "0w7oM6Fj_Zns",
        "outputId": "1c162c7f-27e5-42b7-ba3f-321a3000d9ce"
      },
      "execution_count": 16,
      "outputs": [
        {
          "output_type": "stream",
          "name": "stdout",
          "text": [
            "The highest selling book genre is 'mystery' and the number of books sold are 15.\n"
          ]
        }
      ]
    },
    {
      "cell_type": "markdown",
      "source": [
        "Task11\n"
      ],
      "metadata": {
        "id": "ekd7nfbGXQga"
      }
    },
    {
      "cell_type": "code",
      "source": [
        "user_input = \"Python programming is fun\"\n",
        "\n",
        "user_input = user_input.lower()\n",
        "\n",
        "new_dict = {}\n",
        "\n",
        "for char in user_input:\n",
        "  if char != ' ':\n",
        "    if char in new_dict:\n",
        "      new_dict[char] += 1\n",
        "    else:\n",
        "      new_dict[char] =1\n",
        "\n",
        "print(new_dict)"
      ],
      "metadata": {
        "colab": {
          "base_uri": "https://localhost:8080/"
        },
        "id": "XNj9aeLwYlm2",
        "outputId": "d4cff7c6-556b-46ae-f27f-0d9bb2bd35d7"
      },
      "execution_count": 18,
      "outputs": [
        {
          "output_type": "stream",
          "name": "stdout",
          "text": [
            "{'p': 2, 'y': 1, 't': 1, 'h': 1, 'o': 2, 'n': 3, 'r': 2, 'g': 2, 'a': 1, 'm': 2, 'i': 2, 's': 1, 'f': 1, 'u': 1}\n"
          ]
        }
      ]
    },
    {
      "cell_type": "markdown",
      "source": [
        "Task12"
      ],
      "metadata": {
        "id": "YbKlKzMsbA8f"
      }
    },
    {
      "cell_type": "code",
      "source": [
        "dict_1 = {'A': [1, 2, 3], 'b': ['1', '2'], \"c\": [4, 5, 6, 7]}\n",
        "\n",
        "count = 0\n",
        "\n",
        "for i in dict_1.values():\n",
        "  for j in i:\n",
        "    count += 1\n",
        "print(count)"
      ],
      "metadata": {
        "colab": {
          "base_uri": "https://localhost:8080/"
        },
        "id": "ymVeMdMfbB_a",
        "outputId": "f9568712-e24c-46a3-dde7-c7a90dfbf26f"
      },
      "execution_count": 19,
      "outputs": [
        {
          "output_type": "stream",
          "name": "stdout",
          "text": [
            "9\n"
          ]
        }
      ]
    },
    {
      "cell_type": "markdown",
      "source": [
        "Task13"
      ],
      "metadata": {
        "id": "-2a64w4IbVrC"
      }
    },
    {
      "cell_type": "code",
      "source": [
        "list_1 = [(\"a\", 1), (\"b\", 2), (\"a\", 3), (\"b\", 1), (\"a\", 2), (\"c\", 1)]\n",
        "\n",
        "new_dict = {}\n",
        "\n",
        "for key,value in list_1:\n",
        "  if key in new_dict:\n",
        "    new_dict[key].append(value)\n",
        "  else:\n",
        "    new_dict[key] = [value]\n",
        "print(new_dict)"
      ],
      "metadata": {
        "colab": {
          "base_uri": "https://localhost:8080/"
        },
        "id": "yQTRSd9fbXH9",
        "outputId": "14a56ea7-e540-49e2-9440-7aa4d29cd2aa"
      },
      "execution_count": 28,
      "outputs": [
        {
          "output_type": "stream",
          "name": "stdout",
          "text": [
            "{'a': [1, 3, 2], 'b': [2, 1], 'c': [1]}\n"
          ]
        }
      ]
    }
  ]
}